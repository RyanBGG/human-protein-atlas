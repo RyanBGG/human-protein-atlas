{
 "cells": [
  {
   "cell_type": "code",
   "execution_count": 1,
   "metadata": {},
   "outputs": [
    {
     "name": "stderr",
     "output_type": "stream",
     "text": [
      "Using TensorFlow backend.\n"
     ]
    }
   ],
   "source": [
    "import os, sys\n",
    "import numpy as np\n",
    "import pandas as pd\n",
    "import matplotlib.pyplot as plt\n",
    "import skimage.io\n",
    "from skimage.transform import resize\n",
    "from imgaug import augmenters as iaa\n",
    "\n",
    "import PIL\n",
    "from PIL import Image\n",
    "import cv2\n",
    "from sklearn.utils import class_weight, shuffle\n",
    "import keras\n",
    "import warnings\n",
    "from keras.utils import Sequence\n",
    "warnings.filterwarnings(\"ignore\")\n",
    "SIZE = 299\n",
    "SEED = 777\n",
    "THRESHOLD = 0.2"
   ]
  },
  {
   "cell_type": "code",
   "execution_count": 2,
   "metadata": {},
   "outputs": [],
   "source": [
    "# Load dataset info\n",
    "DIR = '../input/'\n",
    "data = pd.read_csv('../input/train.csv')\n",
    "\n",
    "# train_dataset_info = []\n",
    "# for name, labels in zip(data['Id'], data['Target'].str.split(' ')):\n",
    "#     train_dataset_info.append({\n",
    "#         'path':os.path.join(path_to_train, name),\n",
    "#         'labels':np.array([int(label) for label in labels])})\n",
    "# train_dataset_info = np.array(train_dataset_info)"
   ]
  },
  {
   "cell_type": "code",
   "execution_count": 3,
   "metadata": {},
   "outputs": [],
   "source": [
    "def getTrainDataset():\n",
    "    \n",
    "    path_to_train = DIR + '/train/'\n",
    "    data = pd.read_csv(DIR + '/train.csv')\n",
    "\n",
    "    paths = []\n",
    "    labels = []\n",
    "    \n",
    "    for name, lbl in zip(data['Id'], data['Target'].str.split(' ')):\n",
    "        y = np.zeros(28)\n",
    "        for key in lbl:\n",
    "            y[int(key)] = 1\n",
    "        paths.append(os.path.join(path_to_train, name))\n",
    "        labels.append(y)\n",
    "\n",
    "    return np.array(paths), np.array(labels)\n",
    "\n",
    "def getTestDataset():\n",
    "    \n",
    "    path_to_test = DIR + '/test/'\n",
    "    data = pd.read_csv(DIR + '/sample_submission.csv')\n",
    "\n",
    "    paths = []\n",
    "    labels = []\n",
    "    \n",
    "    for name in data['Id']:\n",
    "        y = np.ones(28)\n",
    "        paths.append(os.path.join(path_to_test, name))\n",
    "        labels.append(y)\n",
    "\n",
    "    return np.array(paths), np.array(labels)\n",
    "paths, labels = getTrainDataset()"
   ]
  },
  {
   "cell_type": "code",
   "execution_count": 4,
   "metadata": {},
   "outputs": [],
   "source": [
    "# credits: https://github.com/keras-team/keras/blob/master/keras/utils/data_utils.py#L302\n",
    "# credits: https://stanford.edu/~shervine/blog/keras-how-to-generate-data-on-the-fly\n",
    "from random import randint\n",
    "class ProteinDataGenerator(keras.utils.Sequence):\n",
    "            \n",
    "    def __init__(self, paths, labels, batch_size, shape, channels = [], shuffle = False, use_cache = False):\n",
    "        self.paths, self.labels = paths, labels\n",
    "        self.batch_size = batch_size\n",
    "        self.shape = shape\n",
    "        self.shuffle = shuffle\n",
    "        self.use_cache = use_cache\n",
    "        self.channels = channels\n",
    "        if use_cache == True:\n",
    "            self.cache = np.zeros((paths.shape[0], shape[0], shape[1], len(channels)))\n",
    "            self.is_cached = np.zeros((paths.shape[0]))\n",
    "        self.on_epoch_end()\n",
    "    \n",
    "    def __len__(self):\n",
    "        return int(np.ceil(len(self.paths) / float(self.batch_size)))\n",
    "    \n",
    "    def __getitem__(self, idx):\n",
    "        indexes = self.indexes[idx * self.batch_size : (idx+1) * self.batch_size]\n",
    "\n",
    "        paths = self.paths[indexes]\n",
    "        X = np.zeros((paths.shape[0], self.shape[0], self.shape[1], self.shape[2]))\n",
    "        # Generate data\n",
    "        if self.use_cache == True:\n",
    "            X = self.cache[indexes]\n",
    "            for i, path in enumerate(paths[np.where(self.is_cached[indexes] == 0)]):\n",
    "                image = self.__load_image(path)\n",
    "                self.is_cached[indexes[i]] = 1\n",
    "                self.cache[indexes[i]] = image\n",
    "                X[i] = image\n",
    "        else:\n",
    "            for i, path in enumerate(paths):\n",
    "                X[i] = self.__load_image(path)\n",
    "\n",
    "        y = self.labels[indexes]\n",
    "        \n",
    "        return X, y\n",
    "    \n",
    "    def on_epoch_end(self):\n",
    "        \n",
    "        # Updates indexes after each epoch\n",
    "        self.indexes = np.arange(len(self.paths))\n",
    "        if self.shuffle == True:\n",
    "            np.random.shuffle(self.indexes)\n",
    "\n",
    "    def __iter__(self):\n",
    "        \"\"\"Create a generator that iterate over the Sequence.\"\"\"\n",
    "        for item in (self[i] for i in range(len(self))):\n",
    "            item = self.augment(item)\n",
    "            yield item\n",
    "            \n",
    "    def __load_image(self, path):\n",
    "        images = []\n",
    "        for channel in self.channels:\n",
    "            images.append(np.array(Image.open(path + '_' + channel + '.png')))\n",
    "\n",
    "        if len(self.channels) >= 2:\n",
    "            im = np.stack((\n",
    "                images\n",
    "            ), -1)\n",
    "            im = cv2.resize(im, (SIZE,SIZE))\n",
    "            im = np.divide(im, 255)\n",
    "\n",
    "        else:\n",
    "            im = images[0]\n",
    "            im = cv2.resize(im, (SIZE,SIZE))\n",
    "            im = np.divide(im, 255)\n",
    "            im = np.expand_dims(im, 2)\n",
    "        return im\n",
    "    def augment(self, image):\n",
    "        if 0 == 1:\n",
    "            augment_img = iaa.Sequential([\n",
    "                iaa.OneOf([\n",
    "                    iaa.Fliplr(0.5), # horizontal flips\n",
    "                    iaa.Flipud(0.5), # horizontal flips\n",
    "                    iaa.Crop(percent=(0, 0.1)), # random crops\n",
    "                    # Small gaussian blur with random sigma between 0 and 0.5.\n",
    "                    # But we only blur about 50% of all images.\n",
    "                    iaa.Sometimes(0.5,\n",
    "                        iaa.GaussianBlur(sigma=(0, 0.5))\n",
    "                    ),\n",
    "                    # Strengthen or weaken the contrast in each image.\n",
    "                    iaa.ContrastNormalization((0.75, 1.5)),\n",
    "                    # Add gaussian noise.\n",
    "                    # For 50% of all images, we sample the noise once per pixel.\n",
    "                    # For the other 50% of all images, we sample the noise per pixel AND\n",
    "                    # channel. This can change the color (not only brightness) of the\n",
    "                    # pixels.\n",
    "                    iaa.AdditiveGaussianNoise(loc=0, scale=(0.0, 0.05), per_channel=0.5),\n",
    "                    # Make some images brighter and some darker.\n",
    "                    # In 20% of all cases, we sample the multiplier once per channel,\n",
    "                    # which can end up changing the color of the images.\n",
    "                    iaa.Multiply((0.8, 1.2), per_channel=0.2),\n",
    "                    # Apply affine transformations to each image.\n",
    "                    # Scale/zoom them, translate/move them, rotate them and shear them.\n",
    "                    iaa.Affine(\n",
    "                        scale={\"x\": (0.8, 1.2), \"y\": (0.8, 1.2)},\n",
    "                        translate_percent={\"x\": (-0.2, 0.2), \"y\": (-0.2, 0.2)},\n",
    "                        rotate=(-180, 180),\n",
    "                        shear=(-8, 8)\n",
    "                    )\n",
    "                ])], random_order=True)\n",
    "\n",
    "\n",
    "            image_aug = augment_img.augment_image(image)\n",
    "            return image_aug\n",
    "        else:\n",
    "            return image\n",
    "    "
   ]
  },
  {
   "cell_type": "code",
   "execution_count": 5,
   "metadata": {},
   "outputs": [],
   "source": [
    "SHAPE = (299, 299, 4)"
   ]
  },
  {
   "cell_type": "code",
   "execution_count": 6,
   "metadata": {},
   "outputs": [
    {
     "name": "stdout",
     "output_type": "stream",
     "text": [
      "red\n",
      "(299, 299, 1)\n",
      "red\n",
      "(299, 299, 1)\n",
      "red\n",
      "(299, 299, 1)\n",
      "red\n",
      "(299, 299, 1)\n",
      "red\n",
      "(299, 299, 1)\n",
      "red\n",
      "(299, 299, 1)\n",
      "red\n",
      "(299, 299, 1)\n",
      "red\n",
      "(299, 299, 1)\n",
      "red\n",
      "(299, 299, 1)\n",
      "red\n",
      "(299, 299, 1)\n"
     ]
    }
   ],
   "source": [
    "channels = [\"red\"]\n",
    "for path in paths[0:10]:\n",
    "    images = []\n",
    "    for channel in channels:\n",
    "        print(channel)\n",
    "        images.append(np.array(Image.open(path + '_' + channel + '.png')))\n",
    "\n",
    "    if len(channels) >= 2:\n",
    "        im = np.stack((\n",
    "            images\n",
    "        ), -1)\n",
    "        im = cv2.resize(im, (SIZE,SIZE))\n",
    "        im = np.divide(im, 255)\n",
    "        \n",
    "    else:\n",
    "        im = images[0]\n",
    "        im = cv2.resize(im, (SIZE,SIZE))\n",
    "        im = np.divide(im, 255)\n",
    "        im = np.expand_dims(im, 2)\n",
    "    print(im.shape)"
   ]
  },
  {
   "cell_type": "code",
   "execution_count": 7,
   "metadata": {},
   "outputs": [],
   "source": [
    "\n",
    "# class data_generator:\n",
    "    \n",
    "#     def create_train(dataset_info, batch_size, shape, augument=True):\n",
    "#         assert shape[2] == 3\n",
    "#         while True:\n",
    "#             dataset_info = shuffle(dataset_info)\n",
    "#             for start in range(0, len(dataset_info), batch_size):\n",
    "#                 end = min(start + batch_size, len(dataset_info))\n",
    "#                 batch_images = []\n",
    "#                 X_train_batch = dataset_info[start:end]\n",
    "#                 batch_labels = np.zeros((len(X_train_batch), 28))\n",
    "#                 for i in range(len(X_train_batch)):\n",
    "#                     image = data_generator.load_image(\n",
    "#                         X_train_batch[i]['path'], shape)   \n",
    "#                     if augument:\n",
    "#                         image = data_generator.augment(image)\n",
    "#                     batch_images.append(image/255.)\n",
    "#                     batch_labels[i][X_train_batch[i]['labels']] = 1\n",
    "#                 yield np.array(batch_images, np.float32), batch_labels\n",
    "\n",
    "#     def load_image(path, shape):\n",
    "#         image_red_ch = Image.open(path+'_red.png')\n",
    "#         image_yellow_ch = Image.open(path+'_yellow.png')\n",
    "#         image_green_ch = Image.open(path+'_green.png')\n",
    "#         image_blue_ch = Image.open(path+'_blue.png')\n",
    "#         image = np.stack((\n",
    "#         np.array(image_red_ch), \n",
    "#         np.array(image_green_ch), \n",
    "#         np.array(image_blue_ch)), -1)\n",
    "#         image = cv2.resize(image, (shape[0], shape[1]))\n",
    "#         return image\n",
    "\n",
    "#     def augment(image):\n",
    "#         augment_img = iaa.Sequential([\n",
    "#             iaa.OneOf([\n",
    "#                 iaa.Affine(rotate=0),\n",
    "#                 iaa.Affine(rotate=90),\n",
    "#                 iaa.Affine(rotate=180),\n",
    "#                 iaa.Affine(rotate=270),\n",
    "#                 iaa.Fliplr(0.5),\n",
    "#                 iaa.Flipud(0.5),\n",
    "#             ])], random_order=True)\n",
    "\n",
    "#         image_aug = augment_img.augment_image(image)\n",
    "#         return image_aug"
   ]
  },
  {
   "cell_type": "code",
   "execution_count": 8,
   "metadata": {},
   "outputs": [],
   "source": [
    "from keras.preprocessing.image import ImageDataGenerator\n",
    "from keras.models import Sequential, load_model\n",
    "from keras.layers import Activation, Dropout, Flatten, Dense, GlobalMaxPooling2D, BatchNormalization, Input, Conv2D, MaxPooling2D\n",
    "from keras.applications.inception_v3 import InceptionV3\n",
    "from keras.callbacks import ModelCheckpoint\n",
    "from keras import metrics\n",
    "from keras.optimizers import Adam \n",
    "from keras import backend as K\n",
    "import keras\n",
    "from keras.models import Model\n",
    "from keras.utils import multi_gpu_model"
   ]
  },
  {
   "cell_type": "code",
   "execution_count": null,
   "metadata": {},
   "outputs": [],
   "source": []
  },
  {
   "cell_type": "code",
   "execution_count": 9,
   "metadata": {},
   "outputs": [],
   "source": [
    "def create_model(input_shape, n_out, channels):\n",
    "    input_tensor = Input(shape=(299,299,len(channels)))\n",
    "\n",
    "    base_model = InceptionV3(include_top=False,\n",
    "                   weights='imagenet',\n",
    "                   input_shape=(299,299,3)\n",
    "                            )\n",
    "    bn = BatchNormalization()(input_tensor)\n",
    "    x = Conv2D(3, kernel_size=(1,1), activation='relu', padding = \"same\")(bn)\n",
    "    x = base_model(x)\n",
    "    x = Conv2D(128, kernel_size=(3,3), activation='relu')(x)\n",
    "    x = Flatten()(x)\n",
    "    x = Dropout(0.5)(x)\n",
    "    x = Dense(1024, activation='relu')(x)\n",
    "    x = Dropout(0.5)(x)\n",
    "    output = Dense(n_out, activation='sigmoid')(x)\n",
    "    model = Model(input_tensor, output)\n",
    "    \n",
    "    return model"
   ]
  },
  {
   "cell_type": "code",
   "execution_count": 10,
   "metadata": {},
   "outputs": [],
   "source": [
    "def f1(y_true, y_pred):\n",
    "    #y_pred = K.round(y_pred)\n",
    "    y_pred = K.cast(K.greater(K.clip(y_pred, 0, 1), THRESHOLD), K.floatx())\n",
    "    tp = K.sum(K.cast(y_true*y_pred, 'float'), axis=0)\n",
    "    tn = K.sum(K.cast((1-y_true)*(1-y_pred), 'float'), axis=0)\n",
    "    fp = K.sum(K.cast((1-y_true)*y_pred, 'float'), axis=0)\n",
    "    fn = K.sum(K.cast(y_true*(1-y_pred), 'float'), axis=0)\n",
    "\n",
    "    p = tp / (tp + fp + K.epsilon())\n",
    "    r = tp / (tp + fn + K.epsilon())\n",
    "\n",
    "    f1 = 2*p*r / (p+r+K.epsilon())\n",
    "    f1 = tf.where(tf.is_nan(f1), tf.zeros_like(f1), f1)\n",
    "    return K.mean(f1)\n",
    "def f1_loss(y_true, y_pred):\n",
    "    \n",
    "    #y_pred = K.cast(K.greater(K.clip(y_pred, 0, 1), THRESHOLD), K.floatx())\n",
    "    tp = K.sum(K.cast(y_true*y_pred, 'float'), axis=0)\n",
    "    tn = K.sum(K.cast((1-y_true)*(1-y_pred), 'float'), axis=0)\n",
    "    fp = K.sum(K.cast((1-y_true)*y_pred, 'float'), axis=0)\n",
    "    fn = K.sum(K.cast(y_true*(1-y_pred), 'float'), axis=0)\n",
    "\n",
    "    p = tp / (tp + fp + K.epsilon())\n",
    "    r = tp / (tp + fn + K.epsilon())\n",
    "\n",
    "    f1 = 2*p*r / (p+r+K.epsilon())\n",
    "    f1 = tf.where(tf.is_nan(f1), tf.zeros_like(f1), f1)\n",
    "    return 1-K.mean(f1)"
   ]
  },
  {
   "cell_type": "code",
   "execution_count": 11,
   "metadata": {},
   "outputs": [
    {
     "name": "stdout",
     "output_type": "stream",
     "text": [
      "(31072,) (31072, 28)\n",
      "(27964,) (27964, 28) (3108,) (3108, 28)\n"
     ]
    }
   ],
   "source": [
    "# create callbacks list\n",
    "from keras.callbacks import ModelCheckpoint, LearningRateScheduler, EarlyStopping, ReduceLROnPlateau\n",
    "from sklearn.model_selection import train_test_split\n",
    "\n",
    "epochs = 10; batch_size = 32;VAL_RATIO = .1;DEBUG = False\n",
    "# split data into train, valid\n",
    "paths, labels = getTrainDataset()\n",
    "\n",
    "# divide to \n",
    "keys = np.arange(paths.shape[0], dtype=np.int)  \n",
    "np.random.seed(SEED)\n",
    "np.random.shuffle(keys)\n",
    "lastTrainIndex = int((1-VAL_RATIO) * paths.shape[0])\n",
    "\n",
    "if DEBUG == True:  # use only small subset for debugging, Kaggle's RAM is limited\n",
    "    pathsTrain = paths[0:256]\n",
    "    labelsTrain = labels[0:256]\n",
    "    pathsVal = paths[lastTrainIndex:lastTrainIndex+256]\n",
    "    labelsVal = labels[lastTrainIndex:lastTrainIndex+256]\n",
    "    use_cache = True\n",
    "else:\n",
    "    pathsTrain = paths[0:lastTrainIndex]\n",
    "    labelsTrain = labels[0:lastTrainIndex]\n",
    "    pathsVal = paths[lastTrainIndex:]\n",
    "    labelsVal = labels[lastTrainIndex:]\n",
    "    use_cache = False\n",
    "\n",
    "print(paths.shape, labels.shape)\n",
    "print(pathsTrain.shape, labelsTrain.shape, pathsVal.shape, labelsVal.shape)\n",
    "use_cache = True\n",
    "tg = ProteinDataGenerator(pathsTrain, labelsTrain, batch_size, SHAPE, channels, use_cache=use_cache)\n",
    "vg = ProteinDataGenerator(pathsVal, labelsVal, batch_size, SHAPE, channels, use_cache=use_cache)"
   ]
  },
  {
   "cell_type": "code",
   "execution_count": 12,
   "metadata": {},
   "outputs": [],
   "source": [
    "# create train and valid datagens\n",
    "# train_generator = data_generator.create_train(\n",
    "#     train_dataset_info[train_indexes], batch_size, (SIZE,SIZE,3), augument=True)\n",
    "# validation_generator = data_generator.create_train(\n",
    "#     train_dataset_info[valid_indexes], 32, (SIZE,SIZE,3), augument=False)"
   ]
  },
  {
   "cell_type": "code",
   "execution_count": 13,
   "metadata": {},
   "outputs": [],
   "source": [
    "checkpoint = ModelCheckpoint('../working/InceptionV3.h5', monitor='val_f1', verbose=1, \n",
    "                             save_best_only=True, mode='max', save_weights_only = False)\n",
    "reduceLROnPlat = ReduceLROnPlateau(monitor='val_f1', factor=0.5, patience=10, \n",
    "                                   verbose=1, mode='max', epsilon=0.0001)\n",
    "early = EarlyStopping(monitor=\"val_f1\", \n",
    "                      mode=\"max\", \n",
    "                      patience=20)\n",
    "callbacks_list = [checkpoint, early, reduceLROnPlat]"
   ]
  },
  {
   "cell_type": "code",
   "execution_count": 14,
   "metadata": {},
   "outputs": [],
   "source": [
    "def focal_loss(gamma=2., alpha=.25):\n",
    "    def focal_loss_fixed(y_true, y_pred):\n",
    "        pt_1 = tf.where(tf.equal(y_true, 1), y_pred, tf.ones_like(y_pred))\n",
    "        pt_0 = tf.where(tf.equal(y_true, 0), y_pred, tf.zeros_like(y_pred))\n",
    "\n",
    "        pt_1 = K.clip(pt_1, 1e-3, .999)\n",
    "        pt_0 = K.clip(pt_0, 1e-3, .999)\n",
    "\n",
    "        return -K.sum(alpha * K.pow(1. - pt_1, gamma) * K.log(pt_1))-K.sum((1-alpha) * K.pow( pt_0, gamma) * K.log(1. - pt_0))\n",
    "    return focal_loss_fixed"
   ]
  },
  {
   "cell_type": "code",
   "execution_count": 15,
   "metadata": {},
   "outputs": [
    {
     "name": "stdout",
     "output_type": "stream",
     "text": [
      "_________________________________________________________________\n",
      "Layer (type)                 Output Shape              Param #   \n",
      "=================================================================\n",
      "input_1 (InputLayer)         (None, 299, 299, 4)       0         \n",
      "_________________________________________________________________\n",
      "batch_normalization_95 (Batc (None, 299, 299, 4)       16        \n",
      "_________________________________________________________________\n",
      "conv2d_95 (Conv2D)           (None, 299, 299, 3)       15        \n",
      "_________________________________________________________________\n",
      "inception_v3 (Model)         (None, 8, 8, 2048)        21802784  \n",
      "_________________________________________________________________\n",
      "conv2d_96 (Conv2D)           (None, 6, 6, 128)         2359424   \n",
      "_________________________________________________________________\n",
      "flatten_1 (Flatten)          (None, 4608)              0         \n",
      "_________________________________________________________________\n",
      "dropout_1 (Dropout)          (None, 4608)              0         \n",
      "_________________________________________________________________\n",
      "dense_1 (Dense)              (None, 1024)              4719616   \n",
      "_________________________________________________________________\n",
      "dropout_2 (Dropout)          (None, 1024)              0         \n",
      "_________________________________________________________________\n",
      "dense_2 (Dense)              (None, 28)                28700     \n",
      "=================================================================\n",
      "Total params: 28,910,555\n",
      "Trainable params: 7,107,763\n",
      "Non-trainable params: 21,802,792\n",
      "_________________________________________________________________\n"
     ]
    }
   ],
   "source": [
    "# warm up model\n",
    "import tensorflow as tf\n",
    "channels = [\"green\", \"blue\", \"red\", \"yellow\"]\n",
    "# with tf.device('/cpu:0'):\n",
    "model = create_model(\n",
    "    input_shape=(SIZE,SIZE,4), \n",
    "    n_out=28, channels = channels)\n",
    "\n",
    "for layer in model.layers:\n",
    "    layer.trainable = False\n",
    "model.layers[1].trainable = True\n",
    "model.layers[2].trainable = True\n",
    "model.layers[-1].trainable = True\n",
    "model.layers[-2].trainable = True\n",
    "model.layers[-3].trainable = True\n",
    "model.layers[-4].trainable = True\n",
    "model.layers[-5].trainable = True\n",
    "model.layers[-6].trainable = True\n",
    "\n",
    "model.summary()\n",
    "# model = multi_gpu_model(model, gpus = 2)"
   ]
  },
  {
   "cell_type": "code",
   "execution_count": 16,
   "metadata": {},
   "outputs": [
    {
     "name": "stdout",
     "output_type": "stream",
     "text": [
      "_________________________________________________________________\n",
      "Layer (type)                 Output Shape              Param #   \n",
      "=================================================================\n",
      "input_1 (InputLayer)         (None, 299, 299, 4)       0         \n",
      "_________________________________________________________________\n",
      "batch_normalization_95 (Batc (None, 299, 299, 4)       16        \n",
      "_________________________________________________________________\n",
      "conv2d_95 (Conv2D)           (None, 299, 299, 3)       15        \n",
      "_________________________________________________________________\n",
      "inception_v3 (Model)         (None, 8, 8, 2048)        21802784  \n",
      "_________________________________________________________________\n",
      "conv2d_96 (Conv2D)           (None, 6, 6, 128)         2359424   \n",
      "_________________________________________________________________\n",
      "flatten_1 (Flatten)          (None, 4608)              0         \n",
      "_________________________________________________________________\n",
      "dropout_1 (Dropout)          (None, 4608)              0         \n",
      "_________________________________________________________________\n",
      "dense_1 (Dense)              (None, 1024)              4719616   \n",
      "_________________________________________________________________\n",
      "dropout_2 (Dropout)          (None, 1024)              0         \n",
      "_________________________________________________________________\n",
      "dense_2 (Dense)              (None, 28)                28700     \n",
      "=================================================================\n",
      "Total params: 28,910,555\n",
      "Trainable params: 7,107,763\n",
      "Non-trainable params: 21,802,792\n",
      "_________________________________________________________________\n"
     ]
    }
   ],
   "source": [
    "model.compile(\n",
    "    loss=focal_loss(), \n",
    "    optimizer=Adam(1e-04),\n",
    "    metrics=['acc', f1])\n",
    "model.summary()"
   ]
  },
  {
   "cell_type": "code",
   "execution_count": 17,
   "metadata": {},
   "outputs": [],
   "source": [
    "\n",
    "tg = ProteinDataGenerator(pathsTrain, labelsTrain, batch_size, SHAPE, channels, use_cache=use_cache)\n",
    "vg = ProteinDataGenerator(pathsVal, labelsVal, batch_size, SHAPE, channels, use_cache=use_cache)"
   ]
  },
  {
   "cell_type": "code",
   "execution_count": 18,
   "metadata": {},
   "outputs": [
    {
     "name": "stdout",
     "output_type": "stream",
     "text": [
      "Epoch 1/4\n",
      "437/437 [==============================] - 396s 905ms/step - loss: 22.4756 - acc: 0.2201 - f1: 0.0893 - val_loss: 17.1416 - val_acc: 0.2953 - val_f1: 0.0784\n",
      "Epoch 2/4\n",
      "437/437 [==============================] - 422s 965ms/step - loss: 17.4489 - acc: 0.2937 - f1: 0.0947 - val_loss: 17.3176 - val_acc: 0.1983 - val_f1: 0.0809\n",
      "Epoch 3/4\n",
      "437/437 [==============================] - 133s 304ms/step - loss: 16.4641 - acc: 0.3214 - f1: 0.0999 - val_loss: 17.1856 - val_acc: 0.2608 - val_f1: 0.0742\n",
      "Epoch 4/4\n",
      "437/437 [==============================] - 152s 347ms/step - loss: 16.0222 - acc: 0.3309 - f1: 0.1021 - val_loss: 16.8626 - val_acc: 0.2353 - val_f1: 0.0901\n"
     ]
    }
   ],
   "source": [
    "hist =  model.fit_generator(\n",
    "        tg,\n",
    "        steps_per_epoch=np.ceil(float(len(pathsTrain)) / float(batch_size))/2,\n",
    "        validation_data=vg,\n",
    "        validation_steps=np.ceil(float(len(pathsVal)) / float(batch_size))/2,\n",
    "        epochs=20, \n",
    "        verbose=1,\n",
    "        callbacks = callbacks_list)"
   ]
  },
  {
   "cell_type": "code",
   "execution_count": 19,
   "metadata": {},
   "outputs": [
    {
     "name": "stdout",
     "output_type": "stream",
     "text": [
      "<keras.engine.input_layer.InputLayer object at 0x00000209DE10FC50>\n",
      "<keras.layers.normalization.BatchNormalization object at 0x0000021318A56F98>\n",
      "<keras.layers.convolutional.Conv2D object at 0x000002131E133F60>\n",
      "<keras.engine.training.Model object at 0x0000021318A56FD0>\n",
      "<keras.layers.convolutional.Conv2D object at 0x0000021320A3FBE0>\n",
      "<keras.layers.core.Flatten object at 0x000002131F1DAE10>\n",
      "<keras.layers.core.Dropout object at 0x0000021318BDCEF0>\n",
      "<keras.layers.core.Dense object at 0x0000021318BDC0B8>\n",
      "<keras.layers.core.Dropout object at 0x000002131EADE470>\n",
      "<keras.layers.core.Dense object at 0x000002131EADE438>\n"
     ]
    }
   ],
   "source": [
    "# train all layers\n",
    "\n",
    "for layer in model.layers:\n",
    "    print(layer)\n",
    "    layer.trainable = True\n",
    "model.compile(loss=focal_loss(),\n",
    "            optimizer=Adam(lr=1e-4),\n",
    "            metrics=['accuracy', f1])"
   ]
  },
  {
   "cell_type": "code",
   "execution_count": 20,
   "metadata": {},
   "outputs": [
    {
     "name": "stdout",
     "output_type": "stream",
     "text": [
      "Epoch 1/200\n",
      "1166/1165 [==============================] - 621s 532ms/step - loss: 14.4375 - acc: 0.3906 - f1: 0.1197 - val_loss: 13.4623 - val_acc: 0.4032 - val_f1: 0.1400\n",
      "\n",
      "Epoch 00001: val_f1 improved from -inf to 0.14002, saving model to ../working/InceptionV3.h5\n",
      "Epoch 2/200\n",
      "1166/1165 [==============================] - 561s 481ms/step - loss: 12.7332 - acc: 0.4688 - f1: 0.1554 - val_loss: 12.9921 - val_acc: 0.4407 - val_f1: 0.1609\n",
      "\n",
      "Epoch 00002: val_f1 improved from 0.14002 to 0.16094, saving model to ../working/InceptionV3.h5\n",
      "Epoch 3/200\n",
      "1166/1165 [==============================] - 583s 500ms/step - loss: 11.5189 - acc: 0.5200 - f1: 0.1855 - val_loss: 12.5422 - val_acc: 0.4855 - val_f1: 0.1883\n",
      "\n",
      "Epoch 00003: val_f1 improved from 0.16094 to 0.18827, saving model to ../working/InceptionV3.h5\n",
      "Epoch 4/200\n",
      "1166/1165 [==============================] - 539s 463ms/step - loss: 9.7294 - acc: 0.5954 - f1: 0.2320 - val_loss: 15.1233 - val_acc: 0.4477 - val_f1: 0.1800\n",
      "\n",
      "Epoch 00004: val_f1 did not improve from 0.18827\n",
      "Epoch 5/200\n",
      "1166/1165 [==============================] - 535s 459ms/step - loss: 8.1982 - acc: 0.6433 - f1: 0.2698 - val_loss: 14.3915 - val_acc: 0.5002 - val_f1: 0.2001\n",
      "\n",
      "Epoch 00005: val_f1 improved from 0.18827 to 0.20009, saving model to ../working/InceptionV3.h5\n",
      "Epoch 6/200\n",
      "1166/1165 [==============================] - 615s 527ms/step - loss: 6.7583 - acc: 0.6910 - f1: 0.3113 - val_loss: 14.2039 - val_acc: 0.4843 - val_f1: 0.1986\n",
      "\n",
      "Epoch 00006: val_f1 did not improve from 0.20009\n",
      "Epoch 7/200\n",
      "1166/1165 [==============================] - 691s 593ms/step - loss: 5.3644 - acc: 0.7237 - f1: 0.3547 - val_loss: 16.5190 - val_acc: 0.4719 - val_f1: 0.1946\n",
      "\n",
      "Epoch 00007: val_f1 did not improve from 0.20009\n",
      "Epoch 8/200\n",
      "1166/1165 [==============================] - 551s 473ms/step - loss: 4.5835 - acc: 0.7396 - f1: 0.3833 - val_loss: 19.6058 - val_acc: 0.4886 - val_f1: 0.2170\n",
      "\n",
      "Epoch 00008: val_f1 improved from 0.20009 to 0.21700, saving model to ../working/InceptionV3.h5\n",
      "Epoch 9/200\n",
      "1166/1165 [==============================] - 553s 474ms/step - loss: 3.9626 - acc: 0.7505 - f1: 0.4045 - val_loss: 20.7152 - val_acc: 0.5140 - val_f1: 0.2117\n",
      "\n",
      "Epoch 00009: val_f1 did not improve from 0.21700\n",
      "Epoch 10/200\n",
      "1166/1165 [==============================] - 586s 503ms/step - loss: 3.3449 - acc: 0.7570 - f1: 0.4286 - val_loss: 20.0773 - val_acc: 0.5198 - val_f1: 0.2293\n",
      "\n",
      "Epoch 00010: val_f1 improved from 0.21700 to 0.22928, saving model to ../working/InceptionV3.h5\n",
      "Epoch 11/200\n",
      "1166/1165 [==============================] - 559s 480ms/step - loss: 3.0437 - acc: 0.7668 - f1: 0.4441 - val_loss: 21.3869 - val_acc: 0.5249 - val_f1: 0.2215\n",
      "\n",
      "Epoch 00011: val_f1 did not improve from 0.22928\n",
      "Epoch 12/200\n",
      "1166/1165 [==============================] - 564s 484ms/step - loss: 2.7674 - acc: 0.7645 - f1: 0.4556 - val_loss: 27.1359 - val_acc: 0.4197 - val_f1: 0.2050\n",
      "\n",
      "Epoch 00012: val_f1 did not improve from 0.22928\n",
      "Epoch 13/200\n",
      "1166/1165 [==============================] - 568s 487ms/step - loss: 2.3669 - acc: 0.7659 - f1: 0.4708 - val_loss: 21.5370 - val_acc: 0.4981 - val_f1: 0.2237\n",
      "\n",
      "Epoch 00013: val_f1 did not improve from 0.22928\n",
      "Epoch 14/200\n",
      "1166/1165 [==============================] - 564s 484ms/step - loss: 2.2448 - acc: 0.7645 - f1: 0.4740 - val_loss: 25.3218 - val_acc: 0.5007 - val_f1: 0.2219\n",
      "\n",
      "Epoch 00014: val_f1 did not improve from 0.22928\n",
      "Epoch 15/200\n",
      "1166/1165 [==============================] - 534s 458ms/step - loss: 2.0872 - acc: 0.7695 - f1: 0.4829 - val_loss: 22.9551 - val_acc: 0.4685 - val_f1: 0.2272\n",
      "\n",
      "Epoch 00015: val_f1 did not improve from 0.22928\n",
      "Epoch 16/200\n",
      "1166/1165 [==============================] - 550s 472ms/step - loss: 1.9086 - acc: 0.7643 - f1: 0.4909 - val_loss: 24.8361 - val_acc: 0.4838 - val_f1: 0.2093\n",
      "\n",
      "Epoch 00016: val_f1 did not improve from 0.22928\n",
      "Epoch 17/200\n",
      "1166/1165 [==============================] - 546s 468ms/step - loss: 1.7114 - acc: 0.7547 - f1: 0.4960 - val_loss: 25.9463 - val_acc: 0.5046 - val_f1: 0.2265\n",
      "\n",
      "Epoch 00017: val_f1 did not improve from 0.22928\n",
      "Epoch 18/200\n",
      "1166/1165 [==============================] - 736s 631ms/step - loss: 1.7610 - acc: 0.7714 - f1: 0.4959 - val_loss: 23.5674 - val_acc: 0.4574 - val_f1: 0.2271\n",
      "\n",
      "Epoch 00018: val_f1 did not improve from 0.22928\n",
      "Epoch 19/200\n",
      "1166/1165 [==============================] - 702s 602ms/step - loss: 1.5211 - acc: 0.7659 - f1: 0.5047 - val_loss: 23.3792 - val_acc: 0.5290 - val_f1: 0.2213\n",
      "\n",
      "Epoch 00019: val_f1 did not improve from 0.22928\n",
      "Epoch 20/200\n",
      "1166/1165 [==============================] - 550s 472ms/step - loss: 1.4516 - acc: 0.7596 - f1: 0.5074 - val_loss: 26.0888 - val_acc: 0.5116 - val_f1: 0.2312\n",
      "\n",
      "Epoch 00020: val_f1 improved from 0.22928 to 0.23121, saving model to ../working/InceptionV3.h5\n",
      "Epoch 21/200\n",
      "1166/1165 [==============================] - 557s 477ms/step - loss: 1.4176 - acc: 0.7478 - f1: 0.5109 - val_loss: 24.3537 - val_acc: 0.4811 - val_f1: 0.2296\n",
      "\n",
      "Epoch 00021: val_f1 did not improve from 0.23121\n",
      "Epoch 22/200\n",
      "1166/1165 [==============================] - 565s 485ms/step - loss: 1.3201 - acc: 0.7572 - f1: 0.5133 - val_loss: 24.6161 - val_acc: 0.4956 - val_f1: 0.2269\n",
      "\n",
      "Epoch 00022: val_f1 did not improve from 0.23121\n",
      "Epoch 23/200\n",
      "1166/1165 [==============================] - 579s 497ms/step - loss: 1.2907 - acc: 0.7518 - f1: 0.5153 - val_loss: 30.0502 - val_acc: 0.5649 - val_f1: 0.2227\n",
      "\n",
      "Epoch 00023: val_f1 did not improve from 0.23121\n",
      "Epoch 24/200\n",
      "1166/1165 [==============================] - 545s 468ms/step - loss: 1.2621 - acc: 0.7472 - f1: 0.5163 - val_loss: 26.7964 - val_acc: 0.4710 - val_f1: 0.2221\n",
      "\n",
      "Epoch 00024: val_f1 did not improve from 0.23121\n",
      "Epoch 25/200\n",
      "1166/1165 [==============================] - 582s 499ms/step - loss: 1.1315 - acc: 0.7505 - f1: 0.5205 - val_loss: 28.1745 - val_acc: 0.5191 - val_f1: 0.2270\n",
      "\n",
      "Epoch 00025: val_f1 did not improve from 0.23121\n",
      "Epoch 26/200\n",
      "1166/1165 [==============================] - 733s 629ms/step - loss: 1.1307 - acc: 0.7495 - f1: 0.5200 - val_loss: 26.4247 - val_acc: 0.5155 - val_f1: 0.2185\n",
      "\n",
      "Epoch 00026: val_f1 did not improve from 0.23121\n",
      "Epoch 27/200\n",
      "1166/1165 [==============================] - 593s 509ms/step - loss: 1.0532 - acc: 0.7441 - f1: 0.5254 - val_loss: 23.8209 - val_acc: 0.4199 - val_f1: 0.2229\n",
      "\n",
      "Epoch 00027: val_f1 did not improve from 0.23121\n",
      "Epoch 28/200\n",
      "1166/1165 [==============================] - 586s 502ms/step - loss: 1.0485 - acc: 0.7370 - f1: 0.5259 - val_loss: 28.4271 - val_acc: 0.5266 - val_f1: 0.2254\n",
      "\n",
      "Epoch 00028: val_f1 did not improve from 0.23121\n",
      "Epoch 29/200\n",
      "1166/1165 [==============================] - 584s 501ms/step - loss: 0.9946 - acc: 0.7449 - f1: 0.5237 - val_loss: 27.7111 - val_acc: 0.4821 - val_f1: 0.2192\n",
      "\n",
      "Epoch 00029: val_f1 did not improve from 0.23121\n",
      "Epoch 30/200\n",
      "1166/1165 [==============================] - 674s 578ms/step - loss: 0.9970 - acc: 0.7396 - f1: 0.5273 - val_loss: 28.2282 - val_acc: 0.4591 - val_f1: 0.2192\n",
      "\n",
      "Epoch 00030: val_f1 did not improve from 0.23121\n",
      "\n",
      "Epoch 00030: ReduceLROnPlateau reducing learning rate to 4.999999873689376e-05.\n",
      "Epoch 31/200\n",
      "1166/1165 [==============================] - 555s 476ms/step - loss: 0.4802 - acc: 0.7436 - f1: 0.5434 - val_loss: 30.1972 - val_acc: 0.5477 - val_f1: 0.2498\n",
      "\n",
      "Epoch 00031: val_f1 improved from 0.23121 to 0.24980, saving model to ../working/InceptionV3.h5\n",
      "Epoch 32/200\n",
      "1166/1165 [==============================] - 558s 479ms/step - loss: 0.2829 - acc: 0.7482 - f1: 0.5507 - val_loss: 33.0352 - val_acc: 0.5099 - val_f1: 0.2432\n",
      "\n",
      "Epoch 00032: val_f1 did not improve from 0.24980\n",
      "Epoch 33/200\n",
      "1166/1165 [==============================] - 549s 471ms/step - loss: 0.3309 - acc: 0.7368 - f1: 0.5490 - val_loss: 30.6744 - val_acc: 0.5102 - val_f1: 0.2471\n",
      "\n",
      "Epoch 00033: val_f1 did not improve from 0.24980\n",
      "Epoch 34/200\n",
      "1166/1165 [==============================] - 574s 493ms/step - loss: 0.3143 - acc: 0.7389 - f1: 0.5501 - val_loss: 34.2312 - val_acc: 0.4918 - val_f1: 0.2491\n",
      "\n",
      "Epoch 00034: val_f1 did not improve from 0.24980\n",
      "Epoch 35/200\n",
      "1166/1165 [==============================] - 549s 471ms/step - loss: 0.3092 - acc: 0.7217 - f1: 0.5492 - val_loss: 36.1620 - val_acc: 0.5276 - val_f1: 0.2469\n",
      "\n",
      "Epoch 00035: val_f1 did not improve from 0.24980\n",
      "Epoch 36/200\n"
     ]
    },
    {
     "name": "stdout",
     "output_type": "stream",
     "text": [
      "1166/1165 [==============================] - 872s 748ms/step - loss: 0.3034 - acc: 0.7205 - f1: 0.5514 - val_loss: 32.1464 - val_acc: 0.5058 - val_f1: 0.2478\n",
      "\n",
      "Epoch 00036: val_f1 did not improve from 0.24980\n",
      "Epoch 37/200\n",
      "1166/1165 [==============================] - 570s 489ms/step - loss: 0.2808 - acc: 0.7381 - f1: 0.5504 - val_loss: 35.0316 - val_acc: 0.5332 - val_f1: 0.2354\n",
      "\n",
      "Epoch 00037: val_f1 did not improve from 0.24980\n",
      "Epoch 38/200\n",
      "1166/1165 [==============================] - 540s 463ms/step - loss: 0.2937 - acc: 0.7282 - f1: 0.5500 - val_loss: 32.6343 - val_acc: 0.5409 - val_f1: 0.2446\n",
      "\n",
      "Epoch 00038: val_f1 did not improve from 0.24980\n",
      "Epoch 39/200\n",
      "1166/1165 [==============================] - 582s 499ms/step - loss: 0.2799 - acc: 0.7288 - f1: 0.5521 - val_loss: 32.2615 - val_acc: 0.5133 - val_f1: 0.2488\n",
      "\n",
      "Epoch 00039: val_f1 did not improve from 0.24980\n",
      "Epoch 40/200\n",
      "1166/1165 [==============================] - 551s 472ms/step - loss: 0.2520 - acc: 0.7223 - f1: 0.5536 - val_loss: 33.8556 - val_acc: 0.5128 - val_f1: 0.2394\n",
      "\n",
      "Epoch 00040: val_f1 did not improve from 0.24980\n",
      "Epoch 41/200\n",
      "1166/1165 [==============================] - 550s 472ms/step - loss: 0.2751 - acc: 0.7246 - f1: 0.5518 - val_loss: 34.5775 - val_acc: 0.5249 - val_f1: 0.2329\n",
      "\n",
      "Epoch 00041: val_f1 did not improve from 0.24980\n",
      "\n",
      "Epoch 00041: ReduceLROnPlateau reducing learning rate to 2.499999936844688e-05.\n",
      "Epoch 42/200\n",
      "1166/1165 [==============================] - 620s 532ms/step - loss: 0.1684 - acc: 0.7240 - f1: 0.5546 - val_loss: 36.9186 - val_acc: 0.5315 - val_f1: 0.2340\n",
      "\n",
      "Epoch 00042: val_f1 did not improve from 0.24980\n",
      "Epoch 43/200\n",
      "1166/1165 [==============================] - 821s 704ms/step - loss: 0.0836 - acc: 0.7250 - f1: 0.5581 - val_loss: 40.0365 - val_acc: 0.5450 - val_f1: 0.2437\n",
      "\n",
      "Epoch 00043: val_f1 did not improve from 0.24980\n",
      "Epoch 44/200\n",
      "1166/1165 [==============================] - 541s 464ms/step - loss: 0.0968 - acc: 0.7237 - f1: 0.5562 - val_loss: 39.2963 - val_acc: 0.5358 - val_f1: 0.2444\n",
      "\n",
      "Epoch 00044: val_f1 did not improve from 0.24980\n",
      "Epoch 45/200\n",
      "1166/1165 [==============================] - 558s 478ms/step - loss: 0.1055 - acc: 0.7188 - f1: 0.5574 - val_loss: 37.8755 - val_acc: 0.5332 - val_f1: 0.2430\n",
      "\n",
      "Epoch 00045: val_f1 did not improve from 0.24980\n",
      "Epoch 46/200\n",
      "1166/1165 [==============================] - 553s 474ms/step - loss: 0.0715 - acc: 0.7193 - f1: 0.5558 - val_loss: 41.5919 - val_acc: 0.5160 - val_f1: 0.2409\n",
      "\n",
      "Epoch 00046: val_f1 did not improve from 0.24980\n",
      "Epoch 47/200\n",
      "1166/1165 [==============================] - 537s 460ms/step - loss: 0.0764 - acc: 0.7199 - f1: 0.5612 - val_loss: 42.9732 - val_acc: 0.5443 - val_f1: 0.2379\n",
      "\n",
      "Epoch 00047: val_f1 did not improve from 0.24980\n",
      "Epoch 48/200\n",
      "1166/1165 [==============================] - 532s 456ms/step - loss: 0.0791 - acc: 0.7227 - f1: 0.5567 - val_loss: 41.4001 - val_acc: 0.5370 - val_f1: 0.2442\n",
      "\n",
      "Epoch 00048: val_f1 did not improve from 0.24980\n",
      "Epoch 49/200\n",
      "1166/1165 [==============================] - 569s 488ms/step - loss: 0.0819 - acc: 0.7272 - f1: 0.5571 - val_loss: 42.8874 - val_acc: 0.5339 - val_f1: 0.2448\n",
      "\n",
      "Epoch 00049: val_f1 did not improve from 0.24980\n",
      "Epoch 50/200\n",
      "1166/1165 [==============================] - 561s 482ms/step - loss: 0.0911 - acc: 0.7249 - f1: 0.5601 - val_loss: 41.6502 - val_acc: 0.5143 - val_f1: 0.2447\n",
      "\n",
      "Epoch 00050: val_f1 did not improve from 0.24980\n",
      "Epoch 51/200\n",
      "1166/1165 [==============================] - 580s 497ms/step - loss: 0.0898 - acc: 0.7310 - f1: 0.5556 - val_loss: 41.3384 - val_acc: 0.5390 - val_f1: 0.2460\n",
      "\n",
      "Epoch 00051: val_f1 did not improve from 0.24980\n",
      "\n",
      "Epoch 00051: ReduceLROnPlateau reducing learning rate to 1.249999968422344e-05.\n"
     ]
    }
   ],
   "source": [
    "\n",
    "batch_size = 12\n",
    "hist =  model.fit_generator(\n",
    "        tg,\n",
    "        steps_per_epoch=np.ceil(float(len(pathsTrain)) / float(batch_size))/2,\n",
    "        validation_data=vg,\n",
    "        validation_steps=np.ceil(float(len(pathsVal)) / float(batch_size))/2,\n",
    "        epochs=200, \n",
    "        verbose=1,\n",
    "        callbacks=callbacks_list)\n",
    "    "
   ]
  },
  {
   "cell_type": "code",
   "execution_count": 53,
   "metadata": {},
   "outputs": [
    {
     "name": "stdout",
     "output_type": "stream",
     "text": [
      "Epoch 1/200\n"
     ]
    },
    {
     "name": "stdout",
     "output_type": "stream",
     "text": [
      " 150/1165 [==>...........................] - ETA: 17:53:14 - loss: 0.6426 - acc: 0.6875 - f1: 0.43 - ETA: 9:00:15 - loss: 0.5811 - acc: 0.7500 - f1: 0.4983 - ETA: 6:02:41 - loss: 0.5659 - acc: 0.7292 - f1: 0.505 - ETA: 4:33:54 - loss: 0.5507 - acc: 0.7031 - f1: 0.521 - ETA: 3:40:30 - loss: 0.5315 - acc: 0.7000 - f1: 0.535 - ETA: 3:04:57 - loss: 0.5220 - acc: 0.7396 - f1: 0.540 - ETA: 2:39:32 - loss: 0.5160 - acc: 0.7366 - f1: 0.545 - ETA: 2:20:29 - loss: 0.5109 - acc: 0.7500 - f1: 0.547 - ETA: 2:05:40 - loss: 0.5013 - acc: 0.7361 - f1: 0.554 - ETA: 1:53:47 - loss: 0.5037 - acc: 0.7281 - f1: 0.548 - ETA: 1:44:05 - loss: 0.5025 - acc: 0.7330 - f1: 0.547 - ETA: 1:36:00 - loss: 0.5076 - acc: 0.7448 - f1: 0.540 - ETA: 1:29:09 - loss: 0.5126 - acc: 0.7452 - f1: 0.535 - ETA: 1:23:16 - loss: 0.5132 - acc: 0.7478 - f1: 0.534 - ETA: 1:18:11 - loss: 0.5088 - acc: 0.7479 - f1: 0.537 - ETA: 1:13:43 - loss: 0.5102 - acc: 0.7480 - f1: 0.534 - ETA: 1:09:46 - loss: 0.5129 - acc: 0.7574 - f1: 0.530 - ETA: 1:06:16 - loss: 0.5108 - acc: 0.7552 - f1: 0.530 - ETA: 1:03:08 - loss: 0.5090 - acc: 0.7582 - f1: 0.530 - ETA: 1:00:19 - loss: 0.5029 - acc: 0.7625 - f1: 0.535 - ETA: 57:45 - loss: 0.4976 - acc: 0.7634 - f1: 0.5397  - ETA: 55:26 - loss: 0.4971 - acc: 0.7628 - f1: 0.538 - ETA: 53:19 - loss: 0.4945 - acc: 0.7609 - f1: 0.539 - ETA: 51:23 - loss: 0.4919 - acc: 0.7643 - f1: 0.542 - ETA: 49:36 - loss: 0.4897 - acc: 0.7650 - f1: 0.543 - ETA: 47:57 - loss: 0.4920 - acc: 0.7596 - f1: 0.540 - ETA: 46:25 - loss: 0.4921 - acc: 0.7581 - f1: 0.539 - ETA: 45:00 - loss: 0.4915 - acc: 0.7600 - f1: 0.539 - ETA: 43:40 - loss: 0.4876 - acc: 0.7629 - f1: 0.542 - ETA: 42:26 - loss: 0.4848 - acc: 0.7594 - f1: 0.544 - ETA: 41:17 - loss: 0.4812 - acc: 0.7571 - f1: 0.547 - ETA: 40:12 - loss: 0.4827 - acc: 0.7529 - f1: 0.545 - ETA: 39:11 - loss: 0.4844 - acc: 0.7538 - f1: 0.543 - ETA: 38:13 - loss: 0.4831 - acc: 0.7500 - f1: 0.544 - ETA: 37:19 - loss: 0.4829 - acc: 0.7518 - f1: 0.544 - ETA: 36:28 - loss: 0.4833 - acc: 0.7509 - f1: 0.544 - ETA: 35:39 - loss: 0.4793 - acc: 0.7508 - f1: 0.548 - ETA: 34:53 - loss: 0.4805 - acc: 0.7500 - f1: 0.547 - ETA: 34:10 - loss: 0.4801 - acc: 0.7476 - f1: 0.546 - ETA: 33:28 - loss: 0.4814 - acc: 0.7469 - f1: 0.545 - ETA: 32:49 - loss: 0.4786 - acc: 0.7470 - f1: 0.547 - ETA: 32:11 - loss: 0.4768 - acc: 0.7493 - f1: 0.549 - ETA: 31:35 - loss: 0.4764 - acc: 0.7515 - f1: 0.549 - ETA: 31:01 - loss: 0.4746 - acc: 0.7528 - f1: 0.550 - ETA: 30:28 - loss: 0.4725 - acc: 0.7528 - f1: 0.552 - ETA: 29:57 - loss: 0.4702 - acc: 0.7520 - f1: 0.554 - ETA: 29:27 - loss: 0.4696 - acc: 0.7513 - f1: 0.554 - ETA: 28:58 - loss: 0.4709 - acc: 0.7526 - f1: 0.552 - ETA: 28:30 - loss: 0.4696 - acc: 0.7532 - f1: 0.553 - ETA: 28:04 - loss: 0.4682 - acc: 0.7494 - f1: 0.554 - ETA: 27:38 - loss: 0.4690 - acc: 0.7494 - f1: 0.553 - ETA: 27:13 - loss: 0.4676 - acc: 0.7512 - f1: 0.554 - ETA: 26:50 - loss: 0.4677 - acc: 0.7500 - f1: 0.554 - ETA: 26:27 - loss: 0.4678 - acc: 0.7494 - f1: 0.553 - ETA: 26:05 - loss: 0.4654 - acc: 0.7489 - f1: 0.556 - ETA: 25:43 - loss: 0.4669 - acc: 0.7467 - f1: 0.554 - ETA: 25:23 - loss: 0.4670 - acc: 0.7473 - f1: 0.554 - ETA: 25:03 - loss: 0.4671 - acc: 0.7478 - f1: 0.553 - ETA: 24:44 - loss: 0.4652 - acc: 0.7468 - f1: 0.556 - ETA: 24:25 - loss: 0.4642 - acc: 0.7464 - f1: 0.556 - ETA: 24:07 - loss: 0.4627 - acc: 0.7469 - f1: 0.558 - ETA: 23:50 - loss: 0.4610 - acc: 0.7450 - f1: 0.559 - ETA: 23:33 - loss: 0.4596 - acc: 0.7470 - f1: 0.561 - ETA: 23:17 - loss: 0.4604 - acc: 0.7476 - f1: 0.559 - ETA: 23:01 - loss: 0.4607 - acc: 0.7476 - f1: 0.559 - ETA: 22:46 - loss: 0.4616 - acc: 0.7467 - f1: 0.558 - ETA: 22:31 - loss: 0.4619 - acc: 0.7472 - f1: 0.558 - ETA: 22:16 - loss: 0.4612 - acc: 0.7486 - f1: 0.558 - ETA: 22:02 - loss: 0.4626 - acc: 0.7459 - f1: 0.557 - ETA: 21:49 - loss: 0.4627 - acc: 0.7446 - f1: 0.556 - ETA: 21:36 - loss: 0.4631 - acc: 0.7443 - f1: 0.556 - ETA: 21:23 - loss: 0.4637 - acc: 0.7439 - f1: 0.555 - ETA: 21:10 - loss: 0.4626 - acc: 0.7427 - f1: 0.556 - ETA: 20:58 - loss: 0.4638 - acc: 0.7420 - f1: 0.555 - ETA: 20:46 - loss: 0.4630 - acc: 0.7404 - f1: 0.556 - ETA: 20:34 - loss: 0.4614 - acc: 0.7410 - f1: 0.557 - ETA: 20:23 - loss: 0.4615 - acc: 0.7407 - f1: 0.557 - ETA: 20:12 - loss: 0.4607 - acc: 0.7396 - f1: 0.558 - ETA: 20:01 - loss: 0.4591 - acc: 0.7373 - f1: 0.559 - ETA: 19:50 - loss: 0.4600 - acc: 0.7379 - f1: 0.558 - ETA: 19:40 - loss: 0.4598 - acc: 0.7365 - f1: 0.558 - ETA: 19:30 - loss: 0.4598 - acc: 0.7367 - f1: 0.558 - ETA: 19:20 - loss: 0.4602 - acc: 0.7364 - f1: 0.558 - ETA: 19:11 - loss: 0.4599 - acc: 0.7374 - f1: 0.558 - ETA: 19:01 - loss: 0.4595 - acc: 0.7375 - f1: 0.559 - ETA: 18:52 - loss: 0.4603 - acc: 0.7366 - f1: 0.558 - ETA: 18:43 - loss: 0.4607 - acc: 0.7374 - f1: 0.557 - ETA: 18:34 - loss: 0.4597 - acc: 0.7365 - f1: 0.558 - ETA: 18:26 - loss: 0.4593 - acc: 0.7360 - f1: 0.558 - ETA: 18:17 - loss: 0.4589 - acc: 0.7358 - f1: 0.558 - ETA: 18:10 - loss: 0.4593 - acc: 0.7345 - f1: 0.558 - ETA: 18:01 - loss: 0.4609 - acc: 0.7340 - f1: 0.556 - ETA: 17:53 - loss: 0.4606 - acc: 0.7342 - f1: 0.556 - ETA: 17:46 - loss: 0.4603 - acc: 0.7330 - f1: 0.556 - ETA: 17:38 - loss: 0.4605 - acc: 0.7326 - f1: 0.556 - ETA: 17:31 - loss: 0.4604 - acc: 0.7334 - f1: 0.556 - ETA: 17:23 - loss: 0.4603 - acc: 0.7329 - f1: 0.556 - ETA: 17:16 - loss: 0.4601 - acc: 0.7334 - f1: 0.556 - ETA: 17:09 - loss: 0.4592 - acc: 0.7336 - f1: 0.557 - ETA: 17:02 - loss: 0.4593 - acc: 0.7328 - f1: 0.557 - ETA: 16:56 - loss: 0.4597 - acc: 0.7330 - f1: 0.556 - ETA: 16:49 - loss: 0.4592 - acc: 0.7335 - f1: 0.557 - ETA: 16:42 - loss: 0.4598 - acc: 0.7330 - f1: 0.556 - ETA: 16:36 - loss: 0.4601 - acc: 0.7326 - f1: 0.556 - ETA: 16:30 - loss: 0.4611 - acc: 0.7327 - f1: 0.555 - ETA: 16:23 - loss: 0.4619 - acc: 0.7338 - f1: 0.554 - ETA: 16:17 - loss: 0.4620 - acc: 0.7342 - f1: 0.554 - ETA: 16:11 - loss: 0.4619 - acc: 0.7341 - f1: 0.554 - ETA: 16:05 - loss: 0.4618 - acc: 0.7348 - f1: 0.554 - ETA: 16:00 - loss: 0.4629 - acc: 0.7332 - f1: 0.552 - ETA: 15:54 - loss: 0.4637 - acc: 0.7342 - f1: 0.551 - ETA: 15:48 - loss: 0.4629 - acc: 0.7344 - f1: 0.552 - ETA: 15:43 - loss: 0.4631 - acc: 0.7334 - f1: 0.552 - ETA: 15:38 - loss: 0.4626 - acc: 0.7333 - f1: 0.552 - ETA: 15:32 - loss: 0.4624 - acc: 0.7326 - f1: 0.552 - ETA: 15:27 - loss: 0.4627 - acc: 0.7320 - f1: 0.552 - ETA: 15:22 - loss: 0.4634 - acc: 0.7313 - f1: 0.551 - ETA: 15:17 - loss: 0.4633 - acc: 0.7309 - f1: 0.551 - ETA: 15:12 - loss: 0.4642 - acc: 0.7306 - f1: 0.550 - ETA: 15:07 - loss: 0.4638 - acc: 0.7302 - f1: 0.550 - ETA: 15:02 - loss: 0.4645 - acc: 0.7309 - f1: 0.550 - ETA: 14:58 - loss: 0.4642 - acc: 0.7293 - f1: 0.550 - ETA: 14:53 - loss: 0.4640 - acc: 0.7294 - f1: 0.550 - ETA: 14:48 - loss: 0.4637 - acc: 0.7298 - f1: 0.550 - ETA: 14:44 - loss: 0.4636 - acc: 0.7305 - f1: 0.550 - ETA: 14:39 - loss: 0.4626 - acc: 0.7314 - f1: 0.551 - ETA: 14:35 - loss: 0.4621 - acc: 0.7306 - f1: 0.552 - ETA: 14:31 - loss: 0.4617 - acc: 0.7307 - f1: 0.552 - ETA: 14:26 - loss: 0.4610 - acc: 0.7299 - f1: 0.553 - ETA: 14:22 - loss: 0.4609 - acc: 0.7305 - f1: 0.553 - ETA: 14:18 - loss: 0.4610 - acc: 0.7302 - f1: 0.552 - ETA: 14:14 - loss: 0.4608 - acc: 0.7304 - f1: 0.553 - ETA: 14:10 - loss: 0.4601 - acc: 0.7310 - f1: 0.553 - ETA: 14:06 - loss: 0.4612 - acc: 0.7313 - f1: 0.552 - ETA: 14:02 - loss: 0.4612 - acc: 0.7312 - f1: 0.552 - ETA: 13:58 - loss: 0.4629 - acc: 0.7312 - f1: 0.550 - ETA: 13:54 - loss: 0.4630 - acc: 0.7311 - f1: 0.550 - ETA: 13:50 - loss: 0.4632 - acc: 0.7301 - f1: 0.550 - ETA: 13:46 - loss: 0.4635 - acc: 0.7304 - f1: 0.549 - ETA: 13:43 - loss: 0.4642 - acc: 0.7310 - f1: 0.549 - ETA: 13:39 - loss: 0.4638 - acc: 0.7309 - f1: 0.549 - ETA: 13:35 - loss: 0.4636 - acc: 0.7311 - f1: 0.549 - ETA: 13:32 - loss: 0.4638 - acc: 0.7312 - f1: 0.549 - ETA: 13:28 - loss: 0.4638 - acc: 0.7309 - f1: 0.549 - ETA: 13:25 - loss: 0.4642 - acc: 0.7304 - f1: 0.548 - ETA: 13:22 - loss: 0.4641 - acc: 0.7312 - f1: 0.548 - ETA: 13:18 - loss: 0.4639 - acc: 0.7309 - f1: 0.549 - ETA: 13:15 - loss: 0.4649 - acc: 0.7308 - f1: 0.547 - ETA: 13:12 - loss: 0.4647 - acc: 0.7305 - f1: 0.548 - ETA: 13:08 - loss: 0.4642 - acc: 0.7300 - f1: 0.5484\b\b\b\b\b\b\b\b\b\b\b\b\b\b\b\b\b\b\b\b\b\b\b\b\b\b\b\b\b\b\b\b\b\b\b\b\b\b\b\b\b\b\b\b\b\b\b\b\b\b\b\b\b\b\b\b\b\b\b\b\b\b\b\b\b\b\b\b\b\b\b\b\b\b\b\b\b\b\b\b\b\b\b\b\b\b\b\b\b\b\b\b\b\b\b\b\b"
     ]
    },
    {
     "name": "stdout",
     "output_type": "stream",
     "text": [
      " 304/1165 [======>.......................] - ETA: 13:05 - loss: 0.4639 - acc: 0.7293 - f1: 0.548 - ETA: 13:02 - loss: 0.4651 - acc: 0.7296 - f1: 0.547 - ETA: 12:59 - loss: 0.4656 - acc: 0.7304 - f1: 0.546 - ETA: 12:55 - loss: 0.4652 - acc: 0.7303 - f1: 0.547 - ETA: 12:52 - loss: 0.4658 - acc: 0.7296 - f1: 0.546 - ETA: 12:49 - loss: 0.4663 - acc: 0.7306 - f1: 0.545 - ETA: 12:46 - loss: 0.4659 - acc: 0.7303 - f1: 0.546 - ETA: 12:43 - loss: 0.4658 - acc: 0.7298 - f1: 0.546 - ETA: 12:40 - loss: 0.4657 - acc: 0.7300 - f1: 0.546 - ETA: 12:37 - loss: 0.4658 - acc: 0.7301 - f1: 0.546 - ETA: 12:34 - loss: 0.4650 - acc: 0.7292 - f1: 0.547 - ETA: 12:32 - loss: 0.4652 - acc: 0.7297 - f1: 0.546 - ETA: 12:29 - loss: 0.4650 - acc: 0.7297 - f1: 0.546 - ETA: 12:26 - loss: 0.4655 - acc: 0.7294 - f1: 0.546 - ETA: 12:23 - loss: 0.4657 - acc: 0.7293 - f1: 0.546 - ETA: 12:20 - loss: 0.4657 - acc: 0.7298 - f1: 0.546 - ETA: 12:17 - loss: 0.4656 - acc: 0.7292 - f1: 0.546 - ETA: 12:15 - loss: 0.4660 - acc: 0.7282 - f1: 0.545 - ETA: 12:12 - loss: 0.4658 - acc: 0.7270 - f1: 0.545 - ETA: 12:10 - loss: 0.4660 - acc: 0.7272 - f1: 0.545 - ETA: 12:07 - loss: 0.4664 - acc: 0.7273 - f1: 0.545 - ETA: 12:04 - loss: 0.4660 - acc: 0.7278 - f1: 0.545 - ETA: 12:02 - loss: 0.4653 - acc: 0.7285 - f1: 0.546 - ETA: 11:59 - loss: 0.4660 - acc: 0.7279 - f1: 0.545 - ETA: 11:57 - loss: 0.4655 - acc: 0.7277 - f1: 0.545 - ETA: 11:54 - loss: 0.4659 - acc: 0.7281 - f1: 0.545 - ETA: 11:52 - loss: 0.4662 - acc: 0.7283 - f1: 0.545 - ETA: 11:49 - loss: 0.4659 - acc: 0.7279 - f1: 0.545 - ETA: 11:47 - loss: 0.4665 - acc: 0.7283 - f1: 0.544 - ETA: 11:45 - loss: 0.4662 - acc: 0.7284 - f1: 0.544 - ETA: 11:42 - loss: 0.4659 - acc: 0.7280 - f1: 0.545 - ETA: 11:40 - loss: 0.4653 - acc: 0.7282 - f1: 0.545 - ETA: 11:37 - loss: 0.4652 - acc: 0.7288 - f1: 0.545 - ETA: 11:35 - loss: 0.4652 - acc: 0.7281 - f1: 0.545 - ETA: 11:33 - loss: 0.4645 - acc: 0.7275 - f1: 0.546 - ETA: 11:31 - loss: 0.4645 - acc: 0.7275 - f1: 0.546 - ETA: 11:28 - loss: 0.4646 - acc: 0.7274 - f1: 0.546 - ETA: 11:26 - loss: 0.4652 - acc: 0.7280 - f1: 0.545 - ETA: 11:24 - loss: 0.4657 - acc: 0.7283 - f1: 0.545 - ETA: 11:22 - loss: 0.4659 - acc: 0.7276 - f1: 0.545 - ETA: 11:19 - loss: 0.4660 - acc: 0.7274 - f1: 0.544 - ETA: 11:17 - loss: 0.4664 - acc: 0.7272 - f1: 0.544 - ETA: 11:15 - loss: 0.4661 - acc: 0.7273 - f1: 0.544 - ETA: 11:13 - loss: 0.4662 - acc: 0.7276 - f1: 0.544 - ETA: 11:12 - loss: 0.4661 - acc: 0.7279 - f1: 0.545 - ETA: 11:10 - loss: 0.4660 - acc: 0.7281 - f1: 0.545 - ETA: 11:08 - loss: 0.4666 - acc: 0.7281 - f1: 0.544 - ETA: 11:06 - loss: 0.4671 - acc: 0.7279 - f1: 0.543 - ETA: 11:05 - loss: 0.4669 - acc: 0.7277 - f1: 0.544 - ETA: 11:03 - loss: 0.4672 - acc: 0.7278 - f1: 0.543 - ETA: 11:01 - loss: 0.4670 - acc: 0.7270 - f1: 0.543 - ETA: 10:59 - loss: 0.4667 - acc: 0.7272 - f1: 0.543 - ETA: 10:57 - loss: 0.4665 - acc: 0.7278 - f1: 0.544 - ETA: 10:55 - loss: 0.4669 - acc: 0.7281 - f1: 0.543 - ETA: 10:53 - loss: 0.4671 - acc: 0.7282 - f1: 0.543 - ETA: 10:51 - loss: 0.4666 - acc: 0.7280 - f1: 0.543 - ETA: 10:49 - loss: 0.4675 - acc: 0.7279 - f1: 0.542 - ETA: 10:47 - loss: 0.4676 - acc: 0.7274 - f1: 0.542 - ETA: 10:45 - loss: 0.4678 - acc: 0.7277 - f1: 0.542 - ETA: 10:43 - loss: 0.4675 - acc: 0.7268 - f1: 0.542 - ETA: 10:41 - loss: 0.4673 - acc: 0.7269 - f1: 0.543 - ETA: 10:39 - loss: 0.4671 - acc: 0.7264 - f1: 0.543 - ETA: 10:37 - loss: 0.4673 - acc: 0.7267 - f1: 0.542 - ETA: 10:36 - loss: 0.4670 - acc: 0.7269 - f1: 0.543 - ETA: 10:34 - loss: 0.4671 - acc: 0.7269 - f1: 0.543 - ETA: 10:32 - loss: 0.4673 - acc: 0.7268 - f1: 0.542 - ETA: 10:30 - loss: 0.4672 - acc: 0.7272 - f1: 0.542 - ETA: 10:28 - loss: 0.4677 - acc: 0.7266 - f1: 0.542 - ETA: 10:27 - loss: 0.4678 - acc: 0.7271 - f1: 0.542 - ETA: 10:25 - loss: 0.4676 - acc: 0.7273 - f1: 0.542 - ETA: 10:23 - loss: 0.4678 - acc: 0.7271 - f1: 0.542 - ETA: 10:22 - loss: 0.4681 - acc: 0.7270 - f1: 0.541 - ETA: 10:20 - loss: 0.4682 - acc: 0.7273 - f1: 0.541 - ETA: 10:18 - loss: 0.4682 - acc: 0.7268 - f1: 0.541 - ETA: 10:16 - loss: 0.4680 - acc: 0.7264 - f1: 0.542 - ETA: 10:15 - loss: 0.4681 - acc: 0.7262 - f1: 0.541 - ETA: 10:13 - loss: 0.4681 - acc: 0.7269 - f1: 0.541 - ETA: 10:11 - loss: 0.4683 - acc: 0.7270 - f1: 0.541 - ETA: 10:10 - loss: 0.4688 - acc: 0.7269 - f1: 0.541 - ETA: 10:08 - loss: 0.4688 - acc: 0.7269 - f1: 0.541 - ETA: 10:06 - loss: 0.4691 - acc: 0.7273 - f1: 0.540 - ETA: 10:05 - loss: 0.4693 - acc: 0.7275 - f1: 0.540 - ETA: 10:03 - loss: 0.4692 - acc: 0.7270 - f1: 0.540 - ETA: 10:02 - loss: 0.4690 - acc: 0.7271 - f1: 0.540 - ETA: 10:00 - loss: 0.4692 - acc: 0.7276 - f1: 0.540 - ETA: 9:58 - loss: 0.4693 - acc: 0.7280 - f1: 0.540 - ETA: 9:57 - loss: 0.4692 - acc: 0.7284 - f1: 0.54 - ETA: 9:55 - loss: 0.4693 - acc: 0.7284 - f1: 0.54 - ETA: 9:54 - loss: 0.4692 - acc: 0.7285 - f1: 0.54 - ETA: 9:52 - loss: 0.4693 - acc: 0.7291 - f1: 0.54 - ETA: 9:51 - loss: 0.4696 - acc: 0.7294 - f1: 0.53 - ETA: 9:49 - loss: 0.4697 - acc: 0.7294 - f1: 0.53 - ETA: 9:48 - loss: 0.4699 - acc: 0.7298 - f1: 0.53 - ETA: 9:46 - loss: 0.4701 - acc: 0.7296 - f1: 0.53 - ETA: 9:45 - loss: 0.4702 - acc: 0.7301 - f1: 0.53 - ETA: 9:43 - loss: 0.4705 - acc: 0.7304 - f1: 0.53 - ETA: 9:42 - loss: 0.4703 - acc: 0.7300 - f1: 0.53 - ETA: 9:40 - loss: 0.4706 - acc: 0.7305 - f1: 0.53 - ETA: 9:39 - loss: 0.4705 - acc: 0.7304 - f1: 0.53 - ETA: 9:37 - loss: 0.4700 - acc: 0.7301 - f1: 0.53 - ETA: 9:36 - loss: 0.4700 - acc: 0.7302 - f1: 0.53 - ETA: 9:35 - loss: 0.4701 - acc: 0.7304 - f1: 0.53 - ETA: 9:33 - loss: 0.4700 - acc: 0.7303 - f1: 0.53 - ETA: 9:32 - loss: 0.4698 - acc: 0.7301 - f1: 0.53 - ETA: 9:30 - loss: 0.4698 - acc: 0.7299 - f1: 0.53 - ETA: 9:29 - loss: 0.4698 - acc: 0.7302 - f1: 0.53 - ETA: 9:28 - loss: 0.4695 - acc: 0.7302 - f1: 0.53 - ETA: 9:26 - loss: 0.4699 - acc: 0.7307 - f1: 0.53 - ETA: 9:25 - loss: 0.4701 - acc: 0.7308 - f1: 0.53 - ETA: 9:23 - loss: 0.4699 - acc: 0.7310 - f1: 0.53 - ETA: 9:22 - loss: 0.4695 - acc: 0.7314 - f1: 0.53 - ETA: 9:21 - loss: 0.4699 - acc: 0.7321 - f1: 0.53 - ETA: 9:19 - loss: 0.4695 - acc: 0.7319 - f1: 0.53 - ETA: 9:18 - loss: 0.4693 - acc: 0.7321 - f1: 0.54 - ETA: 9:17 - loss: 0.4694 - acc: 0.7326 - f1: 0.53 - ETA: 9:15 - loss: 0.4694 - acc: 0.7328 - f1: 0.53 - ETA: 9:14 - loss: 0.4692 - acc: 0.7331 - f1: 0.53 - ETA: 9:13 - loss: 0.4692 - acc: 0.7338 - f1: 0.53 - ETA: 9:11 - loss: 0.4692 - acc: 0.7337 - f1: 0.53 - ETA: 9:10 - loss: 0.4694 - acc: 0.7335 - f1: 0.53 - ETA: 9:09 - loss: 0.4693 - acc: 0.7337 - f1: 0.53 - ETA: 9:08 - loss: 0.4694 - acc: 0.7341 - f1: 0.53 - ETA: 9:06 - loss: 0.4695 - acc: 0.7342 - f1: 0.53 - ETA: 9:05 - loss: 0.4698 - acc: 0.7341 - f1: 0.53 - ETA: 9:04 - loss: 0.4696 - acc: 0.7342 - f1: 0.53 - ETA: 9:03 - loss: 0.4692 - acc: 0.7341 - f1: 0.53 - ETA: 9:01 - loss: 0.4690 - acc: 0.7341 - f1: 0.54 - ETA: 9:00 - loss: 0.4691 - acc: 0.7338 - f1: 0.53 - ETA: 8:59 - loss: 0.4692 - acc: 0.7336 - f1: 0.53 - ETA: 8:58 - loss: 0.4694 - acc: 0.7332 - f1: 0.53 - ETA: 8:56 - loss: 0.4695 - acc: 0.7331 - f1: 0.53 - ETA: 8:55 - loss: 0.4694 - acc: 0.7327 - f1: 0.53 - ETA: 8:54 - loss: 0.4694 - acc: 0.7329 - f1: 0.53 - ETA: 8:53 - loss: 0.4694 - acc: 0.7328 - f1: 0.53 - ETA: 8:52 - loss: 0.4696 - acc: 0.7332 - f1: 0.53 - ETA: 8:50 - loss: 0.4697 - acc: 0.7334 - f1: 0.53 - ETA: 8:49 - loss: 0.4699 - acc: 0.7332 - f1: 0.53 - ETA: 8:48 - loss: 0.4699 - acc: 0.7333 - f1: 0.53 - ETA: 8:47 - loss: 0.4697 - acc: 0.7330 - f1: 0.53 - ETA: 8:46 - loss: 0.4696 - acc: 0.7330 - f1: 0.53 - ETA: 8:45 - loss: 0.4696 - acc: 0.7327 - f1: 0.53 - ETA: 8:44 - loss: 0.4699 - acc: 0.7323 - f1: 0.53 - ETA: 8:42 - loss: 0.4699 - acc: 0.7319 - f1: 0.53 - ETA: 8:41 - loss: 0.4701 - acc: 0.7317 - f1: 0.53 - ETA: 8:40 - loss: 0.4699 - acc: 0.7314 - f1: 0.53 - ETA: 8:39 - loss: 0.4701 - acc: 0.7311 - f1: 0.53 - ETA: 8:38 - loss: 0.4699 - acc: 0.7308 - f1: 0.53 - ETA: 8:37 - loss: 0.4699 - acc: 0.7310 - f1: 0.53 - ETA: 8:36 - loss: 0.4699 - acc: 0.7305 - f1: 0.53 - ETA: 8:34 - loss: 0.4701 - acc: 0.7307 - f1: 0.53 - ETA: 8:33 - loss: 0.4701 - acc: 0.7310 - f1: 0.53 - ETA: 8:32 - loss: 0.4703 - acc: 0.7309 - f1: 0.53 - ETA: 8:31 - loss: 0.4703 - acc: 0.7306 - f1: 0.53 - ETA: 8:30 - loss: 0.4700 - acc: 0.7302 - f1: 0.5389"
     ]
    },
    {
     "name": "stdout",
     "output_type": "stream",
     "text": [
      " 461/1165 [==========>...................] - ETA: 8:29 - loss: 0.4701 - acc: 0.7300 - f1: 0.53 - ETA: 8:28 - loss: 0.4699 - acc: 0.7297 - f1: 0.53 - ETA: 8:27 - loss: 0.4697 - acc: 0.7295 - f1: 0.53 - ETA: 8:26 - loss: 0.4695 - acc: 0.7296 - f1: 0.53 - ETA: 8:25 - loss: 0.4696 - acc: 0.7296 - f1: 0.53 - ETA: 8:24 - loss: 0.4698 - acc: 0.7292 - f1: 0.53 - ETA: 8:22 - loss: 0.4699 - acc: 0.7288 - f1: 0.53 - ETA: 8:21 - loss: 0.4697 - acc: 0.7290 - f1: 0.53 - ETA: 8:20 - loss: 0.4699 - acc: 0.7290 - f1: 0.53 - ETA: 8:19 - loss: 0.4698 - acc: 0.7292 - f1: 0.53 - ETA: 8:18 - loss: 0.4697 - acc: 0.7292 - f1: 0.53 - ETA: 8:17 - loss: 0.4696 - acc: 0.7287 - f1: 0.53 - ETA: 8:16 - loss: 0.4698 - acc: 0.7288 - f1: 0.53 - ETA: 8:15 - loss: 0.4698 - acc: 0.7288 - f1: 0.53 - ETA: 8:14 - loss: 0.4697 - acc: 0.7291 - f1: 0.53 - ETA: 8:13 - loss: 0.4701 - acc: 0.7287 - f1: 0.53 - ETA: 8:12 - loss: 0.4701 - acc: 0.7280 - f1: 0.53 - ETA: 8:11 - loss: 0.4703 - acc: 0.7278 - f1: 0.53 - ETA: 8:10 - loss: 0.4706 - acc: 0.7273 - f1: 0.53 - ETA: 8:09 - loss: 0.4705 - acc: 0.7273 - f1: 0.53 - ETA: 8:08 - loss: 0.4705 - acc: 0.7278 - f1: 0.53 - ETA: 8:07 - loss: 0.4703 - acc: 0.7279 - f1: 0.53 - ETA: 8:06 - loss: 0.4705 - acc: 0.7276 - f1: 0.53 - ETA: 8:05 - loss: 0.4706 - acc: 0.7280 - f1: 0.53 - ETA: 8:04 - loss: 0.4701 - acc: 0.7280 - f1: 0.53 - ETA: 8:03 - loss: 0.4704 - acc: 0.7284 - f1: 0.53 - ETA: 8:02 - loss: 0.4701 - acc: 0.7285 - f1: 0.53 - ETA: 8:01 - loss: 0.4698 - acc: 0.7279 - f1: 0.53 - ETA: 8:00 - loss: 0.4696 - acc: 0.7282 - f1: 0.53 - ETA: 7:59 - loss: 0.4696 - acc: 0.7281 - f1: 0.53 - ETA: 7:58 - loss: 0.4696 - acc: 0.7283 - f1: 0.53 - ETA: 7:57 - loss: 0.4695 - acc: 0.7283 - f1: 0.53 - ETA: 7:56 - loss: 0.4698 - acc: 0.7288 - f1: 0.53 - ETA: 7:55 - loss: 0.4699 - acc: 0.7287 - f1: 0.53 - ETA: 7:54 - loss: 0.4696 - acc: 0.7289 - f1: 0.53 - ETA: 7:53 - loss: 0.4695 - acc: 0.7290 - f1: 0.53 - ETA: 7:52 - loss: 0.4688 - acc: 0.7290 - f1: 0.53 - ETA: 7:51 - loss: 0.4686 - acc: 0.7294 - f1: 0.53 - ETA: 7:50 - loss: 0.4688 - acc: 0.7292 - f1: 0.53 - ETA: 7:49 - loss: 0.4688 - acc: 0.7294 - f1: 0.53 - ETA: 7:48 - loss: 0.4687 - acc: 0.7292 - f1: 0.53 - ETA: 7:47 - loss: 0.4688 - acc: 0.7294 - f1: 0.53 - ETA: 7:46 - loss: 0.4689 - acc: 0.7295 - f1: 0.53 - ETA: 7:45 - loss: 0.4688 - acc: 0.7298 - f1: 0.53 - ETA: 7:45 - loss: 0.4688 - acc: 0.7300 - f1: 0.53 - ETA: 7:44 - loss: 0.4687 - acc: 0.7303 - f1: 0.53 - ETA: 7:43 - loss: 0.4687 - acc: 0.7304 - f1: 0.53 - ETA: 7:42 - loss: 0.4684 - acc: 0.7305 - f1: 0.53 - ETA: 7:41 - loss: 0.4683 - acc: 0.7303 - f1: 0.53 - ETA: 7:40 - loss: 0.4682 - acc: 0.7307 - f1: 0.53 - ETA: 7:39 - loss: 0.4686 - acc: 0.7308 - f1: 0.53 - ETA: 7:38 - loss: 0.4686 - acc: 0.7310 - f1: 0.53 - ETA: 7:37 - loss: 0.4686 - acc: 0.7312 - f1: 0.53 - ETA: 7:36 - loss: 0.4686 - acc: 0.7315 - f1: 0.53 - ETA: 7:35 - loss: 0.4687 - acc: 0.7317 - f1: 0.53 - ETA: 7:34 - loss: 0.4687 - acc: 0.7319 - f1: 0.53 - ETA: 7:34 - loss: 0.4684 - acc: 0.7320 - f1: 0.53 - ETA: 7:33 - loss: 0.4684 - acc: 0.7316 - f1: 0.53 - ETA: 7:32 - loss: 0.4686 - acc: 0.7315 - f1: 0.53 - ETA: 7:31 - loss: 0.4683 - acc: 0.7317 - f1: 0.53 - ETA: 7:30 - loss: 0.4683 - acc: 0.7318 - f1: 0.53 - ETA: 7:29 - loss: 0.4684 - acc: 0.7315 - f1: 0.53 - ETA: 7:28 - loss: 0.4684 - acc: 0.7316 - f1: 0.53 - ETA: 7:27 - loss: 0.4685 - acc: 0.7320 - f1: 0.53 - ETA: 7:27 - loss: 0.4686 - acc: 0.7323 - f1: 0.53 - ETA: 7:26 - loss: 0.4685 - acc: 0.7323 - f1: 0.53 - ETA: 7:25 - loss: 0.4686 - acc: 0.7324 - f1: 0.53 - ETA: 7:24 - loss: 0.4691 - acc: 0.7324 - f1: 0.53 - ETA: 7:23 - loss: 0.4690 - acc: 0.7322 - f1: 0.53 - ETA: 7:22 - loss: 0.4689 - acc: 0.7323 - f1: 0.53 - ETA: 7:21 - loss: 0.4688 - acc: 0.7323 - f1: 0.53 - ETA: 7:21 - loss: 0.4685 - acc: 0.7323 - f1: 0.53 - ETA: 7:20 - loss: 0.4683 - acc: 0.7321 - f1: 0.53 - ETA: 7:19 - loss: 0.4681 - acc: 0.7322 - f1: 0.53 - ETA: 7:18 - loss: 0.4681 - acc: 0.7321 - f1: 0.53 - ETA: 7:17 - loss: 0.4684 - acc: 0.7323 - f1: 0.53 - ETA: 7:16 - loss: 0.4684 - acc: 0.7325 - f1: 0.53 - ETA: 7:15 - loss: 0.4684 - acc: 0.7326 - f1: 0.53 - ETA: 7:15 - loss: 0.4682 - acc: 0.7323 - f1: 0.53 - ETA: 7:14 - loss: 0.4682 - acc: 0.7322 - f1: 0.53 - ETA: 7:13 - loss: 0.4681 - acc: 0.7320 - f1: 0.53 - ETA: 7:12 - loss: 0.4683 - acc: 0.7323 - f1: 0.53 - ETA: 7:11 - loss: 0.4682 - acc: 0.7328 - f1: 0.53 - ETA: 7:10 - loss: 0.4681 - acc: 0.7332 - f1: 0.53 - ETA: 7:10 - loss: 0.4682 - acc: 0.7330 - f1: 0.53 - ETA: 7:09 - loss: 0.4682 - acc: 0.7332 - f1: 0.53 - ETA: 7:08 - loss: 0.4686 - acc: 0.7331 - f1: 0.53 - ETA: 7:07 - loss: 0.4685 - acc: 0.7331 - f1: 0.53 - ETA: 7:06 - loss: 0.4686 - acc: 0.7331 - f1: 0.53 - ETA: 7:06 - loss: 0.4686 - acc: 0.7333 - f1: 0.53 - ETA: 7:05 - loss: 0.4686 - acc: 0.7332 - f1: 0.53 - ETA: 7:04 - loss: 0.4686 - acc: 0.7329 - f1: 0.53 - ETA: 7:03 - loss: 0.4686 - acc: 0.7330 - f1: 0.53 - ETA: 7:02 - loss: 0.4687 - acc: 0.7330 - f1: 0.53 - ETA: 7:02 - loss: 0.4685 - acc: 0.7325 - f1: 0.53 - ETA: 7:01 - loss: 0.4685 - acc: 0.7322 - f1: 0.53 - ETA: 7:00 - loss: 0.4687 - acc: 0.7322 - f1: 0.53 - ETA: 6:59 - loss: 0.4683 - acc: 0.7321 - f1: 0.53 - ETA: 6:59 - loss: 0.4684 - acc: 0.7322 - f1: 0.53 - ETA: 6:58 - loss: 0.4685 - acc: 0.7322 - f1: 0.53 - ETA: 6:57 - loss: 0.4684 - acc: 0.7322 - f1: 0.53 - ETA: 6:56 - loss: 0.4682 - acc: 0.7322 - f1: 0.53 - ETA: 6:56 - loss: 0.4683 - acc: 0.7319 - f1: 0.53 - ETA: 6:55 - loss: 0.4683 - acc: 0.7317 - f1: 0.53 - ETA: 6:54 - loss: 0.4683 - acc: 0.7317 - f1: 0.53 - ETA: 6:53 - loss: 0.4682 - acc: 0.7312 - f1: 0.53 - ETA: 6:53 - loss: 0.4684 - acc: 0.7311 - f1: 0.53 - ETA: 6:52 - loss: 0.4684 - acc: 0.7313 - f1: 0.53 - ETA: 6:51 - loss: 0.4683 - acc: 0.7313 - f1: 0.53 - ETA: 6:50 - loss: 0.4686 - acc: 0.7314 - f1: 0.53 - ETA: 6:50 - loss: 0.4685 - acc: 0.7312 - f1: 0.53 - ETA: 6:49 - loss: 0.4690 - acc: 0.7312 - f1: 0.53 - ETA: 6:48 - loss: 0.4690 - acc: 0.7311 - f1: 0.53 - ETA: 6:47 - loss: 0.4691 - acc: 0.7313 - f1: 0.53 - ETA: 6:47 - loss: 0.4689 - acc: 0.7311 - f1: 0.53 - ETA: 6:46 - loss: 0.4689 - acc: 0.7309 - f1: 0.53 - ETA: 6:45 - loss: 0.4689 - acc: 0.7303 - f1: 0.53 - ETA: 6:44 - loss: 0.4692 - acc: 0.7306 - f1: 0.53 - ETA: 6:44 - loss: 0.4692 - acc: 0.7301 - f1: 0.53 - ETA: 6:43 - loss: 0.4691 - acc: 0.7303 - f1: 0.53 - ETA: 6:42 - loss: 0.4689 - acc: 0.7302 - f1: 0.53 - ETA: 6:42 - loss: 0.4689 - acc: 0.7302 - f1: 0.53 - ETA: 6:41 - loss: 0.4689 - acc: 0.7298 - f1: 0.53 - ETA: 6:40 - loss: 0.4686 - acc: 0.7297 - f1: 0.53 - ETA: 6:39 - loss: 0.4685 - acc: 0.7298 - f1: 0.53 - ETA: 6:39 - loss: 0.4686 - acc: 0.7297 - f1: 0.53 - ETA: 6:38 - loss: 0.4686 - acc: 0.7297 - f1: 0.53 - ETA: 6:37 - loss: 0.4686 - acc: 0.7297 - f1: 0.53 - ETA: 6:37 - loss: 0.4683 - acc: 0.7296 - f1: 0.53 - ETA: 6:36 - loss: 0.4683 - acc: 0.7298 - f1: 0.53 - ETA: 6:35 - loss: 0.4682 - acc: 0.7298 - f1: 0.53 - ETA: 6:35 - loss: 0.4685 - acc: 0.7299 - f1: 0.53 - ETA: 6:34 - loss: 0.4687 - acc: 0.7303 - f1: 0.53 - ETA: 6:33 - loss: 0.4687 - acc: 0.7304 - f1: 0.53 - ETA: 6:32 - loss: 0.4688 - acc: 0.7303 - f1: 0.53 - ETA: 6:32 - loss: 0.4686 - acc: 0.7302 - f1: 0.53 - ETA: 6:31 - loss: 0.4685 - acc: 0.7304 - f1: 0.53 - ETA: 6:30 - loss: 0.4685 - acc: 0.7302 - f1: 0.53 - ETA: 6:30 - loss: 0.4684 - acc: 0.7301 - f1: 0.53 - ETA: 6:29 - loss: 0.4683 - acc: 0.7303 - f1: 0.53 - ETA: 6:28 - loss: 0.4682 - acc: 0.7299 - f1: 0.53 - ETA: 6:27 - loss: 0.4685 - acc: 0.7299 - f1: 0.53 - ETA: 6:27 - loss: 0.4687 - acc: 0.7301 - f1: 0.53 - ETA: 6:26 - loss: 0.4689 - acc: 0.7302 - f1: 0.53 - ETA: 6:25 - loss: 0.4689 - acc: 0.7303 - f1: 0.53 - ETA: 6:25 - loss: 0.4690 - acc: 0.7305 - f1: 0.53 - ETA: 6:24 - loss: 0.4690 - acc: 0.7304 - f1: 0.53 - ETA: 6:23 - loss: 0.4690 - acc: 0.7302 - f1: 0.53 - ETA: 6:23 - loss: 0.4691 - acc: 0.7304 - f1: 0.53 - ETA: 6:22 - loss: 0.4691 - acc: 0.7304 - f1: 0.53 - ETA: 6:21 - loss: 0.4693 - acc: 0.7304 - f1: 0.53 - ETA: 6:21 - loss: 0.4692 - acc: 0.7304 - f1: 0.53 - ETA: 6:20 - loss: 0.4694 - acc: 0.7306 - f1: 0.53 - ETA: 6:19 - loss: 0.4695 - acc: 0.7308 - f1: 0.53 - ETA: 6:18 - loss: 0.4697 - acc: 0.7310 - f1: 0.53 - ETA: 6:18 - loss: 0.4697 - acc: 0.7311 - f1: 0.53 - ETA: 6:17 - loss: 0.4696 - acc: 0.7312 - f1: 0.5371"
     ]
    },
    {
     "name": "stdout",
     "output_type": "stream",
     "text": [
      " 618/1165 [==============>...............] - ETA: 6:16 - loss: 0.4697 - acc: 0.7313 - f1: 0.53 - ETA: 6:16 - loss: 0.4697 - acc: 0.7312 - f1: 0.53 - ETA: 6:15 - loss: 0.4699 - acc: 0.7310 - f1: 0.53 - ETA: 6:14 - loss: 0.4698 - acc: 0.7310 - f1: 0.53 - ETA: 6:14 - loss: 0.4698 - acc: 0.7309 - f1: 0.53 - ETA: 6:13 - loss: 0.4699 - acc: 0.7310 - f1: 0.53 - ETA: 6:12 - loss: 0.4698 - acc: 0.7309 - f1: 0.53 - ETA: 6:12 - loss: 0.4700 - acc: 0.7309 - f1: 0.53 - ETA: 6:11 - loss: 0.4700 - acc: 0.7310 - f1: 0.53 - ETA: 6:10 - loss: 0.4702 - acc: 0.7310 - f1: 0.53 - ETA: 6:10 - loss: 0.4700 - acc: 0.7310 - f1: 0.53 - ETA: 6:09 - loss: 0.4699 - acc: 0.7314 - f1: 0.53 - ETA: 6:08 - loss: 0.4699 - acc: 0.7313 - f1: 0.53 - ETA: 6:08 - loss: 0.4700 - acc: 0.7315 - f1: 0.53 - ETA: 6:07 - loss: 0.4699 - acc: 0.7317 - f1: 0.53 - ETA: 6:07 - loss: 0.4699 - acc: 0.7316 - f1: 0.53 - ETA: 6:06 - loss: 0.4699 - acc: 0.7316 - f1: 0.53 - ETA: 6:05 - loss: 0.4698 - acc: 0.7317 - f1: 0.53 - ETA: 6:05 - loss: 0.4698 - acc: 0.7314 - f1: 0.53 - ETA: 6:04 - loss: 0.4698 - acc: 0.7310 - f1: 0.53 - ETA: 6:03 - loss: 0.4699 - acc: 0.7307 - f1: 0.53 - ETA: 6:03 - loss: 0.4700 - acc: 0.7306 - f1: 0.53 - ETA: 6:02 - loss: 0.4700 - acc: 0.7309 - f1: 0.53 - ETA: 6:01 - loss: 0.4702 - acc: 0.7309 - f1: 0.53 - ETA: 6:01 - loss: 0.4701 - acc: 0.7311 - f1: 0.53 - ETA: 6:00 - loss: 0.4701 - acc: 0.7311 - f1: 0.53 - ETA: 5:59 - loss: 0.4699 - acc: 0.7307 - f1: 0.53 - ETA: 5:59 - loss: 0.4699 - acc: 0.7305 - f1: 0.53 - ETA: 5:58 - loss: 0.4699 - acc: 0.7305 - f1: 0.53 - ETA: 5:57 - loss: 0.4699 - acc: 0.7304 - f1: 0.53 - ETA: 5:57 - loss: 0.4700 - acc: 0.7306 - f1: 0.53 - ETA: 5:56 - loss: 0.4697 - acc: 0.7304 - f1: 0.53 - ETA: 5:55 - loss: 0.4696 - acc: 0.7306 - f1: 0.53 - ETA: 5:55 - loss: 0.4694 - acc: 0.7304 - f1: 0.53 - ETA: 5:54 - loss: 0.4694 - acc: 0.7304 - f1: 0.53 - ETA: 5:53 - loss: 0.4695 - acc: 0.7302 - f1: 0.53 - ETA: 5:53 - loss: 0.4696 - acc: 0.7303 - f1: 0.53 - ETA: 5:52 - loss: 0.4697 - acc: 0.7301 - f1: 0.53 - ETA: 5:51 - loss: 0.4699 - acc: 0.7301 - f1: 0.53 - ETA: 5:51 - loss: 0.4700 - acc: 0.7305 - f1: 0.53 - ETA: 5:50 - loss: 0.4701 - acc: 0.7307 - f1: 0.53 - ETA: 5:50 - loss: 0.4701 - acc: 0.7308 - f1: 0.53 - ETA: 5:49 - loss: 0.4700 - acc: 0.7310 - f1: 0.53 - ETA: 5:48 - loss: 0.4698 - acc: 0.7309 - f1: 0.53 - ETA: 5:48 - loss: 0.4698 - acc: 0.7312 - f1: 0.53 - ETA: 5:47 - loss: 0.4699 - acc: 0.7312 - f1: 0.53 - ETA: 5:46 - loss: 0.4700 - acc: 0.7310 - f1: 0.53 - ETA: 5:46 - loss: 0.4701 - acc: 0.7313 - f1: 0.53 - ETA: 5:45 - loss: 0.4701 - acc: 0.7314 - f1: 0.53 - ETA: 5:45 - loss: 0.4702 - acc: 0.7317 - f1: 0.53 - ETA: 5:44 - loss: 0.4699 - acc: 0.7315 - f1: 0.53 - ETA: 5:43 - loss: 0.4699 - acc: 0.7314 - f1: 0.53 - ETA: 5:43 - loss: 0.4699 - acc: 0.7316 - f1: 0.53 - ETA: 5:42 - loss: 0.4699 - acc: 0.7315 - f1: 0.53 - ETA: 5:41 - loss: 0.4700 - acc: 0.7316 - f1: 0.53 - ETA: 5:41 - loss: 0.4700 - acc: 0.7316 - f1: 0.53 - ETA: 5:40 - loss: 0.4701 - acc: 0.7317 - f1: 0.53 - ETA: 5:39 - loss: 0.4703 - acc: 0.7316 - f1: 0.53 - ETA: 5:39 - loss: 0.4703 - acc: 0.7319 - f1: 0.53 - ETA: 5:38 - loss: 0.4702 - acc: 0.7321 - f1: 0.53 - ETA: 5:38 - loss: 0.4704 - acc: 0.7320 - f1: 0.53 - ETA: 5:37 - loss: 0.4704 - acc: 0.7320 - f1: 0.53 - ETA: 5:36 - loss: 0.4703 - acc: 0.7320 - f1: 0.53 - ETA: 5:36 - loss: 0.4703 - acc: 0.7320 - f1: 0.53 - ETA: 5:35 - loss: 0.4703 - acc: 0.7320 - f1: 0.53 - ETA: 5:35 - loss: 0.4703 - acc: 0.7321 - f1: 0.53 - ETA: 5:34 - loss: 0.4702 - acc: 0.7319 - f1: 0.53 - ETA: 5:33 - loss: 0.4701 - acc: 0.7319 - f1: 0.53 - ETA: 5:33 - loss: 0.4700 - acc: 0.7321 - f1: 0.53 - ETA: 5:32 - loss: 0.4699 - acc: 0.7321 - f1: 0.53 - ETA: 5:31 - loss: 0.4699 - acc: 0.7321 - f1: 0.53 - ETA: 5:31 - loss: 0.4700 - acc: 0.7323 - f1: 0.53 - ETA: 5:30 - loss: 0.4698 - acc: 0.7325 - f1: 0.53 - ETA: 5:30 - loss: 0.4699 - acc: 0.7326 - f1: 0.53 - ETA: 5:29 - loss: 0.4699 - acc: 0.7327 - f1: 0.53 - ETA: 5:29 - loss: 0.4699 - acc: 0.7329 - f1: 0.53 - ETA: 5:28 - loss: 0.4699 - acc: 0.7329 - f1: 0.53 - ETA: 5:27 - loss: 0.4701 - acc: 0.7329 - f1: 0.53 - ETA: 5:27 - loss: 0.4700 - acc: 0.7327 - f1: 0.53 - ETA: 5:26 - loss: 0.4699 - acc: 0.7327 - f1: 0.53 - ETA: 5:25 - loss: 0.4699 - acc: 0.7329 - f1: 0.53 - ETA: 5:25 - loss: 0.4700 - acc: 0.7331 - f1: 0.53 - ETA: 5:24 - loss: 0.4702 - acc: 0.7332 - f1: 0.53 - ETA: 5:24 - loss: 0.4701 - acc: 0.7333 - f1: 0.53 - ETA: 5:23 - loss: 0.4702 - acc: 0.7333 - f1: 0.53 - ETA: 5:22 - loss: 0.4701 - acc: 0.7332 - f1: 0.53 - ETA: 5:22 - loss: 0.4699 - acc: 0.7330 - f1: 0.53 - ETA: 5:21 - loss: 0.4700 - acc: 0.7330 - f1: 0.53 - ETA: 5:21 - loss: 0.4700 - acc: 0.7331 - f1: 0.53 - ETA: 5:20 - loss: 0.4698 - acc: 0.7330 - f1: 0.53 - ETA: 5:19 - loss: 0.4697 - acc: 0.7332 - f1: 0.53 - ETA: 5:19 - loss: 0.4696 - acc: 0.7333 - f1: 0.53 - ETA: 5:18 - loss: 0.4699 - acc: 0.7335 - f1: 0.53 - ETA: 5:18 - loss: 0.4699 - acc: 0.7334 - f1: 0.53 - ETA: 5:17 - loss: 0.4700 - acc: 0.7335 - f1: 0.53 - ETA: 5:16 - loss: 0.4699 - acc: 0.7336 - f1: 0.53 - ETA: 5:16 - loss: 0.4697 - acc: 0.7336 - f1: 0.53 - ETA: 5:15 - loss: 0.4698 - acc: 0.7338 - f1: 0.53 - ETA: 5:15 - loss: 0.4697 - acc: 0.7340 - f1: 0.53 - ETA: 5:14 - loss: 0.4695 - acc: 0.7342 - f1: 0.53 - ETA: 5:14 - loss: 0.4696 - acc: 0.7344 - f1: 0.53 - ETA: 5:13 - loss: 0.4696 - acc: 0.7345 - f1: 0.53 - ETA: 5:12 - loss: 0.4696 - acc: 0.7345 - f1: 0.53 - ETA: 5:12 - loss: 0.4697 - acc: 0.7347 - f1: 0.53 - ETA: 5:11 - loss: 0.4695 - acc: 0.7346 - f1: 0.53 - ETA: 5:11 - loss: 0.4697 - acc: 0.7343 - f1: 0.53 - ETA: 5:10 - loss: 0.4696 - acc: 0.7345 - f1: 0.53 - ETA: 5:10 - loss: 0.4697 - acc: 0.7345 - f1: 0.53 - ETA: 5:09 - loss: 0.4697 - acc: 0.7345 - f1: 0.53 - ETA: 5:08 - loss: 0.4696 - acc: 0.7344 - f1: 0.53 - ETA: 5:08 - loss: 0.4696 - acc: 0.7343 - f1: 0.53 - ETA: 5:07 - loss: 0.4695 - acc: 0.7343 - f1: 0.53 - ETA: 5:07 - loss: 0.4696 - acc: 0.7346 - f1: 0.53 - ETA: 5:06 - loss: 0.4695 - acc: 0.7347 - f1: 0.53 - ETA: 5:05 - loss: 0.4695 - acc: 0.7350 - f1: 0.53 - ETA: 5:05 - loss: 0.4696 - acc: 0.7353 - f1: 0.53 - ETA: 5:04 - loss: 0.4697 - acc: 0.7356 - f1: 0.53 - ETA: 5:04 - loss: 0.4699 - acc: 0.7360 - f1: 0.53 - ETA: 5:03 - loss: 0.4698 - acc: 0.7358 - f1: 0.53 - ETA: 5:03 - loss: 0.4698 - acc: 0.7359 - f1: 0.53 - ETA: 5:02 - loss: 0.4699 - acc: 0.7360 - f1: 0.53 - ETA: 5:01 - loss: 0.4699 - acc: 0.7363 - f1: 0.53 - ETA: 5:01 - loss: 0.4701 - acc: 0.7363 - f1: 0.53 - ETA: 5:00 - loss: 0.4701 - acc: 0.7365 - f1: 0.53 - ETA: 5:00 - loss: 0.4701 - acc: 0.7364 - f1: 0.53 - ETA: 4:59 - loss: 0.4703 - acc: 0.7367 - f1: 0.53 - ETA: 4:58 - loss: 0.4703 - acc: 0.7367 - f1: 0.53 - ETA: 4:58 - loss: 0.4704 - acc: 0.7365 - f1: 0.53 - ETA: 4:57 - loss: 0.4705 - acc: 0.7367 - f1: 0.53 - ETA: 4:57 - loss: 0.4703 - acc: 0.7369 - f1: 0.53 - ETA: 4:56 - loss: 0.4703 - acc: 0.7370 - f1: 0.53 - ETA: 4:56 - loss: 0.4704 - acc: 0.7370 - f1: 0.53 - ETA: 4:55 - loss: 0.4704 - acc: 0.7371 - f1: 0.53 - ETA: 4:54 - loss: 0.4705 - acc: 0.7370 - f1: 0.53 - ETA: 4:54 - loss: 0.4704 - acc: 0.7371 - f1: 0.53 - ETA: 4:53 - loss: 0.4705 - acc: 0.7372 - f1: 0.53 - ETA: 4:53 - loss: 0.4705 - acc: 0.7372 - f1: 0.53 - ETA: 4:52 - loss: 0.4707 - acc: 0.7372 - f1: 0.53 - ETA: 4:51 - loss: 0.4707 - acc: 0.7373 - f1: 0.53 - ETA: 4:51 - loss: 0.4708 - acc: 0.7376 - f1: 0.53 - ETA: 4:50 - loss: 0.4710 - acc: 0.7373 - f1: 0.53 - ETA: 4:50 - loss: 0.4710 - acc: 0.7373 - f1: 0.53 - ETA: 4:49 - loss: 0.4710 - acc: 0.7374 - f1: 0.53 - ETA: 4:49 - loss: 0.4713 - acc: 0.7373 - f1: 0.53 - ETA: 4:48 - loss: 0.4712 - acc: 0.7374 - f1: 0.53 - ETA: 4:47 - loss: 0.4713 - acc: 0.7375 - f1: 0.53 - ETA: 4:47 - loss: 0.4713 - acc: 0.7374 - f1: 0.53 - ETA: 4:46 - loss: 0.4713 - acc: 0.7374 - f1: 0.53 - ETA: 4:46 - loss: 0.4712 - acc: 0.7375 - f1: 0.53 - ETA: 4:45 - loss: 0.4712 - acc: 0.7374 - f1: 0.53 - ETA: 4:45 - loss: 0.4713 - acc: 0.7374 - f1: 0.53 - ETA: 4:44 - loss: 0.4712 - acc: 0.7375 - f1: 0.53 - ETA: 4:43 - loss: 0.4712 - acc: 0.7377 - f1: 0.53 - ETA: 4:43 - loss: 0.4712 - acc: 0.7376 - f1: 0.53 - ETA: 4:42 - loss: 0.4713 - acc: 0.7377 - f1: 0.53 - ETA: 4:42 - loss: 0.4715 - acc: 0.7377 - f1: 0.53 - ETA: 4:41 - loss: 0.4717 - acc: 0.7375 - f1: 0.5340"
     ]
    },
    {
     "name": "stdout",
     "output_type": "stream",
     "text": [
      " 775/1165 [==================>...........] - ETA: 4:41 - loss: 0.4717 - acc: 0.7374 - f1: 0.53 - ETA: 4:40 - loss: 0.4717 - acc: 0.7376 - f1: 0.53 - ETA: 4:39 - loss: 0.4718 - acc: 0.7377 - f1: 0.53 - ETA: 4:39 - loss: 0.4719 - acc: 0.7376 - f1: 0.53 - ETA: 4:38 - loss: 0.4719 - acc: 0.7378 - f1: 0.53 - ETA: 4:38 - loss: 0.4719 - acc: 0.7380 - f1: 0.53 - ETA: 4:37 - loss: 0.4719 - acc: 0.7379 - f1: 0.53 - ETA: 4:37 - loss: 0.4718 - acc: 0.7379 - f1: 0.53 - ETA: 4:36 - loss: 0.4718 - acc: 0.7380 - f1: 0.53 - ETA: 4:35 - loss: 0.4718 - acc: 0.7381 - f1: 0.53 - ETA: 4:35 - loss: 0.4719 - acc: 0.7382 - f1: 0.53 - ETA: 4:34 - loss: 0.4717 - acc: 0.7382 - f1: 0.53 - ETA: 4:34 - loss: 0.4718 - acc: 0.7384 - f1: 0.53 - ETA: 4:33 - loss: 0.4718 - acc: 0.7381 - f1: 0.53 - ETA: 4:33 - loss: 0.4719 - acc: 0.7380 - f1: 0.53 - ETA: 4:32 - loss: 0.4717 - acc: 0.7381 - f1: 0.53 - ETA: 4:32 - loss: 0.4718 - acc: 0.7380 - f1: 0.53 - ETA: 4:31 - loss: 0.4719 - acc: 0.7381 - f1: 0.53 - ETA: 4:30 - loss: 0.4720 - acc: 0.7381 - f1: 0.53 - ETA: 4:30 - loss: 0.4720 - acc: 0.7381 - f1: 0.53 - ETA: 4:29 - loss: 0.4720 - acc: 0.7382 - f1: 0.53 - ETA: 4:29 - loss: 0.4720 - acc: 0.7385 - f1: 0.53 - ETA: 4:28 - loss: 0.4720 - acc: 0.7384 - f1: 0.53 - ETA: 4:28 - loss: 0.4723 - acc: 0.7385 - f1: 0.53 - ETA: 4:27 - loss: 0.4723 - acc: 0.7387 - f1: 0.53 - ETA: 4:27 - loss: 0.4723 - acc: 0.7388 - f1: 0.53 - ETA: 4:26 - loss: 0.4722 - acc: 0.7389 - f1: 0.53 - ETA: 4:25 - loss: 0.4722 - acc: 0.7390 - f1: 0.53 - ETA: 4:25 - loss: 0.4723 - acc: 0.7389 - f1: 0.53 - ETA: 4:24 - loss: 0.4723 - acc: 0.7388 - f1: 0.53 - ETA: 4:24 - loss: 0.4722 - acc: 0.7386 - f1: 0.53 - ETA: 4:23 - loss: 0.4721 - acc: 0.7386 - f1: 0.53 - ETA: 4:23 - loss: 0.4722 - acc: 0.7388 - f1: 0.53 - ETA: 4:22 - loss: 0.4723 - acc: 0.7389 - f1: 0.53 - ETA: 4:21 - loss: 0.4723 - acc: 0.7391 - f1: 0.53 - ETA: 4:21 - loss: 0.4723 - acc: 0.7390 - f1: 0.53 - ETA: 4:20 - loss: 0.4723 - acc: 0.7390 - f1: 0.53 - ETA: 4:20 - loss: 0.4724 - acc: 0.7389 - f1: 0.53 - ETA: 4:19 - loss: 0.4724 - acc: 0.7389 - f1: 0.53 - ETA: 4:19 - loss: 0.4724 - acc: 0.7390 - f1: 0.53 - ETA: 4:18 - loss: 0.4725 - acc: 0.7389 - f1: 0.53 - ETA: 4:18 - loss: 0.4726 - acc: 0.7389 - f1: 0.53 - ETA: 4:17 - loss: 0.4726 - acc: 0.7389 - f1: 0.53 - ETA: 4:17 - loss: 0.4726 - acc: 0.7388 - f1: 0.53 - ETA: 4:16 - loss: 0.4726 - acc: 0.7387 - f1: 0.53 - ETA: 4:15 - loss: 0.4726 - acc: 0.7387 - f1: 0.53 - ETA: 4:15 - loss: 0.4725 - acc: 0.7385 - f1: 0.53 - ETA: 4:14 - loss: 0.4725 - acc: 0.7386 - f1: 0.53 - ETA: 4:14 - loss: 0.4725 - acc: 0.7385 - f1: 0.53 - ETA: 4:13 - loss: 0.4725 - acc: 0.7385 - f1: 0.53 - ETA: 4:13 - loss: 0.4724 - acc: 0.7385 - f1: 0.53 - ETA: 4:12 - loss: 0.4724 - acc: 0.7383 - f1: 0.53 - ETA: 4:12 - loss: 0.4725 - acc: 0.7384 - f1: 0.53 - ETA: 4:11 - loss: 0.4725 - acc: 0.7384 - f1: 0.53 - ETA: 4:11 - loss: 0.4724 - acc: 0.7382 - f1: 0.53 - ETA: 4:10 - loss: 0.4725 - acc: 0.7383 - f1: 0.53 - ETA: 4:09 - loss: 0.4725 - acc: 0.7381 - f1: 0.53 - ETA: 4:09 - loss: 0.4724 - acc: 0.7383 - f1: 0.53 - ETA: 4:08 - loss: 0.4725 - acc: 0.7379 - f1: 0.53 - ETA: 4:08 - loss: 0.4724 - acc: 0.7380 - f1: 0.53 - ETA: 4:07 - loss: 0.4723 - acc: 0.7378 - f1: 0.53 - ETA: 4:07 - loss: 0.4724 - acc: 0.7379 - f1: 0.53 - ETA: 4:06 - loss: 0.4725 - acc: 0.7377 - f1: 0.53 - ETA: 4:06 - loss: 0.4726 - acc: 0.7375 - f1: 0.53 - ETA: 4:05 - loss: 0.4726 - acc: 0.7375 - f1: 0.53 - ETA: 4:04 - loss: 0.4725 - acc: 0.7375 - f1: 0.53 - ETA: 4:04 - loss: 0.4725 - acc: 0.7376 - f1: 0.53 - ETA: 4:03 - loss: 0.4725 - acc: 0.7376 - f1: 0.53 - ETA: 4:03 - loss: 0.4726 - acc: 0.7376 - f1: 0.53 - ETA: 4:02 - loss: 0.4726 - acc: 0.7374 - f1: 0.53 - ETA: 4:02 - loss: 0.4727 - acc: 0.7375 - f1: 0.53 - ETA: 4:01 - loss: 0.4728 - acc: 0.7374 - f1: 0.53 - ETA: 4:01 - loss: 0.4728 - acc: 0.7376 - f1: 0.53 - ETA: 4:00 - loss: 0.4727 - acc: 0.7375 - f1: 0.53 - ETA: 4:00 - loss: 0.4728 - acc: 0.7375 - f1: 0.53 - ETA: 3:59 - loss: 0.4729 - acc: 0.7373 - f1: 0.53 - ETA: 3:58 - loss: 0.4729 - acc: 0.7373 - f1: 0.53 - ETA: 3:58 - loss: 0.4729 - acc: 0.7374 - f1: 0.53 - ETA: 3:57 - loss: 0.4730 - acc: 0.7374 - f1: 0.53 - ETA: 3:57 - loss: 0.4731 - acc: 0.7376 - f1: 0.53 - ETA: 3:56 - loss: 0.4731 - acc: 0.7376 - f1: 0.53 - ETA: 3:56 - loss: 0.4731 - acc: 0.7375 - f1: 0.53 - ETA: 3:55 - loss: 0.4731 - acc: 0.7371 - f1: 0.53 - ETA: 3:55 - loss: 0.4730 - acc: 0.7370 - f1: 0.53 - ETA: 3:54 - loss: 0.4732 - acc: 0.7370 - f1: 0.53 - ETA: 3:54 - loss: 0.4730 - acc: 0.7369 - f1: 0.53 - ETA: 3:53 - loss: 0.4731 - acc: 0.7371 - f1: 0.53 - ETA: 3:52 - loss: 0.4731 - acc: 0.7372 - f1: 0.53 - ETA: 3:52 - loss: 0.4730 - acc: 0.7371 - f1: 0.53 - ETA: 3:51 - loss: 0.4730 - acc: 0.7371 - f1: 0.53 - ETA: 3:51 - loss: 0.4731 - acc: 0.7371 - f1: 0.53 - ETA: 3:50 - loss: 0.4732 - acc: 0.7371 - f1: 0.53 - ETA: 3:50 - loss: 0.4733 - acc: 0.7373 - f1: 0.53 - ETA: 3:49 - loss: 0.4731 - acc: 0.7372 - f1: 0.53 - ETA: 3:49 - loss: 0.4733 - acc: 0.7373 - f1: 0.53 - ETA: 3:48 - loss: 0.4733 - acc: 0.7373 - f1: 0.53 - ETA: 3:47 - loss: 0.4732 - acc: 0.7372 - f1: 0.53 - ETA: 3:47 - loss: 0.4733 - acc: 0.7373 - f1: 0.53 - ETA: 3:46 - loss: 0.4734 - acc: 0.7373 - f1: 0.53 - ETA: 3:46 - loss: 0.4735 - acc: 0.7374 - f1: 0.53 - ETA: 3:45 - loss: 0.4736 - acc: 0.7376 - f1: 0.53 - ETA: 3:45 - loss: 0.4735 - acc: 0.7377 - f1: 0.53 - ETA: 3:49 - loss: 0.4737 - acc: 0.7376 - f1: 0.53 - ETA: 3:48 - loss: 0.4736 - acc: 0.7374 - f1: 0.53 - ETA: 3:49 - loss: 0.4736 - acc: 0.7375 - f1: 0.53 - ETA: 3:49 - loss: 0.4736 - acc: 0.7375 - f1: 0.53 - ETA: 3:49 - loss: 0.4736 - acc: 0.7375 - f1: 0.53 - ETA: 3:48 - loss: 0.4738 - acc: 0.7376 - f1: 0.53 - ETA: 3:48 - loss: 0.4738 - acc: 0.7376 - f1: 0.53 - ETA: 3:47 - loss: 0.4736 - acc: 0.7375 - f1: 0.53 - ETA: 3:47 - loss: 0.4736 - acc: 0.7376 - f1: 0.53 - ETA: 3:46 - loss: 0.4735 - acc: 0.7376 - f1: 0.53 - ETA: 3:46 - loss: 0.4734 - acc: 0.7376 - f1: 0.53 - ETA: 3:45 - loss: 0.4735 - acc: 0.7377 - f1: 0.53 - ETA: 3:44 - loss: 0.4735 - acc: 0.7379 - f1: 0.53 - ETA: 3:44 - loss: 0.4734 - acc: 0.7380 - f1: 0.53 - ETA: 3:43 - loss: 0.4734 - acc: 0.7380 - f1: 0.53 - ETA: 3:43 - loss: 0.4735 - acc: 0.7380 - f1: 0.53 - ETA: 3:42 - loss: 0.4736 - acc: 0.7378 - f1: 0.53 - ETA: 3:42 - loss: 0.4736 - acc: 0.7378 - f1: 0.53 - ETA: 3:41 - loss: 0.4737 - acc: 0.7379 - f1: 0.53 - ETA: 3:40 - loss: 0.4738 - acc: 0.7380 - f1: 0.53 - ETA: 3:40 - loss: 0.4739 - acc: 0.7379 - f1: 0.53 - ETA: 3:39 - loss: 0.4739 - acc: 0.7378 - f1: 0.53 - ETA: 3:39 - loss: 0.4739 - acc: 0.7379 - f1: 0.53 - ETA: 3:38 - loss: 0.4740 - acc: 0.7380 - f1: 0.53 - ETA: 3:38 - loss: 0.4739 - acc: 0.7380 - f1: 0.53 - ETA: 3:37 - loss: 0.4739 - acc: 0.7380 - f1: 0.53 - ETA: 3:36 - loss: 0.4739 - acc: 0.7377 - f1: 0.53 - ETA: 3:36 - loss: 0.4740 - acc: 0.7379 - f1: 0.53 - ETA: 3:35 - loss: 0.4740 - acc: 0.7380 - f1: 0.53 - ETA: 3:35 - loss: 0.4741 - acc: 0.7380 - f1: 0.53 - ETA: 3:34 - loss: 0.4741 - acc: 0.7381 - f1: 0.53 - ETA: 3:33 - loss: 0.4742 - acc: 0.7381 - f1: 0.53 - ETA: 3:33 - loss: 0.4742 - acc: 0.7382 - f1: 0.53 - ETA: 3:32 - loss: 0.4741 - acc: 0.7383 - f1: 0.53 - ETA: 3:32 - loss: 0.4740 - acc: 0.7382 - f1: 0.53 - ETA: 3:31 - loss: 0.4739 - acc: 0.7383 - f1: 0.53 - ETA: 3:31 - loss: 0.4738 - acc: 0.7384 - f1: 0.53 - ETA: 3:30 - loss: 0.4737 - acc: 0.7381 - f1: 0.53 - ETA: 3:30 - loss: 0.4737 - acc: 0.7381 - f1: 0.53 - ETA: 3:29 - loss: 0.4736 - acc: 0.7380 - f1: 0.53 - ETA: 3:28 - loss: 0.4737 - acc: 0.7381 - f1: 0.53 - ETA: 3:28 - loss: 0.4738 - acc: 0.7382 - f1: 0.53 - ETA: 3:27 - loss: 0.4737 - acc: 0.7383 - f1: 0.53 - ETA: 3:27 - loss: 0.4738 - acc: 0.7383 - f1: 0.53 - ETA: 3:26 - loss: 0.4738 - acc: 0.7384 - f1: 0.53 - ETA: 3:26 - loss: 0.4738 - acc: 0.7384 - f1: 0.53 - ETA: 3:25 - loss: 0.4738 - acc: 0.7385 - f1: 0.53 - ETA: 3:24 - loss: 0.4739 - acc: 0.7385 - f1: 0.53 - ETA: 3:24 - loss: 0.4738 - acc: 0.7386 - f1: 0.53 - ETA: 3:23 - loss: 0.4738 - acc: 0.7387 - f1: 0.53 - ETA: 3:23 - loss: 0.4739 - acc: 0.7387 - f1: 0.53 - ETA: 3:22 - loss: 0.4740 - acc: 0.7388 - f1: 0.53 - ETA: 3:22 - loss: 0.4742 - acc: 0.7389 - f1: 0.53 - ETA: 3:21 - loss: 0.4741 - acc: 0.7390 - f1: 0.53 - ETA: 3:21 - loss: 0.4743 - acc: 0.7391 - f1: 0.5308"
     ]
    },
    {
     "name": "stdout",
     "output_type": "stream",
     "text": [
      " 932/1165 [======================>.......] - ETA: 3:20 - loss: 0.4743 - acc: 0.7390 - f1: 0.53 - ETA: 3:20 - loss: 0.4741 - acc: 0.7391 - f1: 0.53 - ETA: 3:19 - loss: 0.4741 - acc: 0.7393 - f1: 0.53 - ETA: 3:19 - loss: 0.4741 - acc: 0.7394 - f1: 0.53 - ETA: 3:18 - loss: 0.4740 - acc: 0.7393 - f1: 0.53 - ETA: 3:18 - loss: 0.4741 - acc: 0.7394 - f1: 0.53 - ETA: 3:18 - loss: 0.4740 - acc: 0.7393 - f1: 0.53 - ETA: 3:18 - loss: 0.4740 - acc: 0.7393 - f1: 0.53 - ETA: 3:17 - loss: 0.4740 - acc: 0.7391 - f1: 0.53 - ETA: 3:17 - loss: 0.4739 - acc: 0.7390 - f1: 0.53 - ETA: 3:16 - loss: 0.4740 - acc: 0.7391 - f1: 0.53 - ETA: 3:15 - loss: 0.4741 - acc: 0.7392 - f1: 0.53 - ETA: 3:15 - loss: 0.4741 - acc: 0.7394 - f1: 0.53 - ETA: 3:14 - loss: 0.4740 - acc: 0.7394 - f1: 0.53 - ETA: 3:14 - loss: 0.4739 - acc: 0.7393 - f1: 0.53 - ETA: 3:13 - loss: 0.4739 - acc: 0.7392 - f1: 0.53 - ETA: 3:13 - loss: 0.4740 - acc: 0.7391 - f1: 0.53 - ETA: 3:13 - loss: 0.4742 - acc: 0.7393 - f1: 0.53 - ETA: 3:12 - loss: 0.4742 - acc: 0.7393 - f1: 0.53 - ETA: 3:12 - loss: 0.4742 - acc: 0.7393 - f1: 0.53 - ETA: 3:11 - loss: 0.4743 - acc: 0.7393 - f1: 0.53 - ETA: 3:10 - loss: 0.4745 - acc: 0.7392 - f1: 0.53 - ETA: 3:10 - loss: 0.4745 - acc: 0.7393 - f1: 0.53 - ETA: 3:09 - loss: 0.4745 - acc: 0.7393 - f1: 0.53 - ETA: 3:09 - loss: 0.4745 - acc: 0.7394 - f1: 0.53 - ETA: 3:09 - loss: 0.4745 - acc: 0.7395 - f1: 0.53 - ETA: 3:08 - loss: 0.4744 - acc: 0.7396 - f1: 0.53 - ETA: 3:08 - loss: 0.4744 - acc: 0.7394 - f1: 0.53 - ETA: 3:07 - loss: 0.4745 - acc: 0.7394 - f1: 0.53 - ETA: 3:07 - loss: 0.4747 - acc: 0.7395 - f1: 0.53 - ETA: 3:06 - loss: 0.4746 - acc: 0.7396 - f1: 0.53 - ETA: 3:06 - loss: 0.4747 - acc: 0.7396 - f1: 0.53 - ETA: 3:05 - loss: 0.4747 - acc: 0.7397 - f1: 0.53 - ETA: 3:05 - loss: 0.4746 - acc: 0.7398 - f1: 0.53 - ETA: 3:04 - loss: 0.4745 - acc: 0.7398 - f1: 0.53 - ETA: 3:04 - loss: 0.4747 - acc: 0.7399 - f1: 0.53 - ETA: 3:03 - loss: 0.4746 - acc: 0.7398 - f1: 0.53 - ETA: 3:03 - loss: 0.4746 - acc: 0.7398 - f1: 0.53 - ETA: 3:02 - loss: 0.4747 - acc: 0.7398 - f1: 0.53 - ETA: 3:02 - loss: 0.4746 - acc: 0.7397 - f1: 0.53 - ETA: 3:02 - loss: 0.4746 - acc: 0.7396 - f1: 0.53 - ETA: 3:01 - loss: 0.4747 - acc: 0.7395 - f1: 0.53 - ETA: 3:00 - loss: 0.4747 - acc: 0.7394 - f1: 0.53 - ETA: 3:00 - loss: 0.4747 - acc: 0.7395 - f1: 0.53 - ETA: 2:59 - loss: 0.4746 - acc: 0.7395 - f1: 0.53 - ETA: 2:59 - loss: 0.4745 - acc: 0.7395 - f1: 0.53 - ETA: 2:58 - loss: 0.4745 - acc: 0.7395 - f1: 0.53 - ETA: 2:58 - loss: 0.4745 - acc: 0.7396 - f1: 0.53 - ETA: 2:57 - loss: 0.4746 - acc: 0.7396 - f1: 0.53 - ETA: 2:57 - loss: 0.4744 - acc: 0.7396 - f1: 0.53 - ETA: 2:56 - loss: 0.4743 - acc: 0.7395 - f1: 0.53 - ETA: 2:56 - loss: 0.4744 - acc: 0.7395 - f1: 0.53 - ETA: 2:55 - loss: 0.4745 - acc: 0.7395 - f1: 0.53 - ETA: 2:55 - loss: 0.4745 - acc: 0.7397 - f1: 0.53 - ETA: 2:55 - loss: 0.4745 - acc: 0.7396 - f1: 0.53 - ETA: 2:54 - loss: 0.4744 - acc: 0.7397 - f1: 0.53 - ETA: 2:54 - loss: 0.4744 - acc: 0.7397 - f1: 0.53 - ETA: 2:53 - loss: 0.4744 - acc: 0.7397 - f1: 0.53 - ETA: 2:53 - loss: 0.4744 - acc: 0.7397 - f1: 0.53 - ETA: 2:52 - loss: 0.4743 - acc: 0.7397 - f1: 0.53 - ETA: 2:52 - loss: 0.4743 - acc: 0.7398 - f1: 0.53 - ETA: 2:51 - loss: 0.4743 - acc: 0.7399 - f1: 0.53 - ETA: 2:51 - loss: 0.4745 - acc: 0.7399 - f1: 0.53 - ETA: 2:50 - loss: 0.4744 - acc: 0.7400 - f1: 0.53 - ETA: 2:50 - loss: 0.4745 - acc: 0.7400 - f1: 0.53 - ETA: 2:49 - loss: 0.4745 - acc: 0.7401 - f1: 0.53 - ETA: 2:49 - loss: 0.4745 - acc: 0.7400 - f1: 0.53 - ETA: 2:49 - loss: 0.4745 - acc: 0.7401 - f1: 0.53 - ETA: 2:48 - loss: 0.4745 - acc: 0.7402 - f1: 0.53 - ETA: 2:48 - loss: 0.4745 - acc: 0.7402 - f1: 0.53 - ETA: 2:47 - loss: 0.4745 - acc: 0.7401 - f1: 0.53 - ETA: 2:46 - loss: 0.4747 - acc: 0.7399 - f1: 0.53 - ETA: 2:46 - loss: 0.4747 - acc: 0.7400 - f1: 0.53 - ETA: 2:45 - loss: 0.4748 - acc: 0.7401 - f1: 0.53 - ETA: 2:45 - loss: 0.4749 - acc: 0.7403 - f1: 0.53 - ETA: 2:44 - loss: 0.4749 - acc: 0.7403 - f1: 0.53 - ETA: 2:44 - loss: 0.4750 - acc: 0.7404 - f1: 0.52 - ETA: 2:44 - loss: 0.4751 - acc: 0.7405 - f1: 0.52 - ETA: 2:44 - loss: 0.4752 - acc: 0.7407 - f1: 0.52 - ETA: 2:43 - loss: 0.4751 - acc: 0.7407 - f1: 0.52 - ETA: 2:43 - loss: 0.4752 - acc: 0.7408 - f1: 0.52 - ETA: 2:43 - loss: 0.4752 - acc: 0.7409 - f1: 0.52 - ETA: 2:42 - loss: 0.4751 - acc: 0.7410 - f1: 0.52 - ETA: 2:42 - loss: 0.4751 - acc: 0.7407 - f1: 0.52 - ETA: 2:42 - loss: 0.4751 - acc: 0.7409 - f1: 0.52 - ETA: 2:42 - loss: 0.4753 - acc: 0.7407 - f1: 0.52 - ETA: 2:42 - loss: 0.4753 - acc: 0.7407 - f1: 0.52 - ETA: 2:42 - loss: 0.4752 - acc: 0.7406 - f1: 0.52 - ETA: 2:42 - loss: 0.4752 - acc: 0.7406 - f1: 0.52 - ETA: 2:42 - loss: 0.4752 - acc: 0.7405 - f1: 0.52 - ETA: 2:41 - loss: 0.4751 - acc: 0.7405 - f1: 0.52 - ETA: 2:40 - loss: 0.4751 - acc: 0.7406 - f1: 0.52 - ETA: 2:40 - loss: 0.4753 - acc: 0.7406 - f1: 0.52 - ETA: 2:40 - loss: 0.4753 - acc: 0.7405 - f1: 0.52 - ETA: 2:41 - loss: 0.4753 - acc: 0.7405 - f1: 0.52 - ETA: 2:40 - loss: 0.4752 - acc: 0.7404 - f1: 0.52 - ETA: 2:40 - loss: 0.4753 - acc: 0.7404 - f1: 0.52 - ETA: 2:41 - loss: 0.4752 - acc: 0.7404 - f1: 0.52 - ETA: 2:40 - loss: 0.4753 - acc: 0.7403 - f1: 0.52 - ETA: 2:40 - loss: 0.4753 - acc: 0.7401 - f1: 0.52 - ETA: 2:39 - loss: 0.4753 - acc: 0.7399 - f1: 0.52 - ETA: 2:39 - loss: 0.4752 - acc: 0.7400 - f1: 0.52 - ETA: 2:38 - loss: 0.4750 - acc: 0.7400 - f1: 0.52 - ETA: 2:38 - loss: 0.4749 - acc: 0.7399 - f1: 0.52 - ETA: 2:37 - loss: 0.4750 - acc: 0.7399 - f1: 0.52 - ETA: 2:37 - loss: 0.4751 - acc: 0.7399 - f1: 0.52 - ETA: 2:36 - loss: 0.4751 - acc: 0.7398 - f1: 0.52 - ETA: 2:35 - loss: 0.4752 - acc: 0.7399 - f1: 0.52 - ETA: 2:35 - loss: 0.4751 - acc: 0.7399 - f1: 0.52 - ETA: 2:34 - loss: 0.4751 - acc: 0.7398 - f1: 0.52 - ETA: 2:34 - loss: 0.4751 - acc: 0.7397 - f1: 0.52 - ETA: 2:33 - loss: 0.4752 - acc: 0.7397 - f1: 0.52 - ETA: 2:33 - loss: 0.4752 - acc: 0.7395 - f1: 0.52 - ETA: 2:32 - loss: 0.4752 - acc: 0.7397 - f1: 0.52 - ETA: 2:31 - loss: 0.4751 - acc: 0.7396 - f1: 0.52 - ETA: 2:31 - loss: 0.4750 - acc: 0.7397 - f1: 0.52 - ETA: 2:31 - loss: 0.4751 - acc: 0.7398 - f1: 0.52 - ETA: 2:30 - loss: 0.4750 - acc: 0.7398 - f1: 0.52 - ETA: 2:30 - loss: 0.4750 - acc: 0.7398 - f1: 0.52 - ETA: 2:29 - loss: 0.4751 - acc: 0.7398 - f1: 0.52 - ETA: 2:28 - loss: 0.4752 - acc: 0.7399 - f1: 0.52 - ETA: 2:28 - loss: 0.4752 - acc: 0.7399 - f1: 0.52 - ETA: 2:27 - loss: 0.4752 - acc: 0.7399 - f1: 0.52 - ETA: 2:27 - loss: 0.4753 - acc: 0.7398 - f1: 0.52 - ETA: 2:26 - loss: 0.4752 - acc: 0.7398 - f1: 0.52 - ETA: 2:25 - loss: 0.4753 - acc: 0.7400 - f1: 0.52 - ETA: 2:25 - loss: 0.4752 - acc: 0.7401 - f1: 0.52 - ETA: 2:24 - loss: 0.4753 - acc: 0.7402 - f1: 0.52 - ETA: 2:24 - loss: 0.4753 - acc: 0.7401 - f1: 0.52 - ETA: 2:23 - loss: 0.4754 - acc: 0.7401 - f1: 0.52 - ETA: 2:23 - loss: 0.4755 - acc: 0.7400 - f1: 0.52 - ETA: 2:22 - loss: 0.4754 - acc: 0.7401 - f1: 0.52 - ETA: 2:21 - loss: 0.4755 - acc: 0.7403 - f1: 0.52 - ETA: 2:21 - loss: 0.4754 - acc: 0.7404 - f1: 0.52 - ETA: 2:20 - loss: 0.4753 - acc: 0.7404 - f1: 0.52 - ETA: 2:20 - loss: 0.4753 - acc: 0.7406 - f1: 0.52 - ETA: 2:19 - loss: 0.4753 - acc: 0.7407 - f1: 0.52 - ETA: 2:18 - loss: 0.4753 - acc: 0.7406 - f1: 0.52 - ETA: 2:18 - loss: 0.4753 - acc: 0.7406 - f1: 0.52 - ETA: 2:17 - loss: 0.4753 - acc: 0.7405 - f1: 0.52 - ETA: 2:17 - loss: 0.4753 - acc: 0.7406 - f1: 0.52 - ETA: 2:16 - loss: 0.4752 - acc: 0.7406 - f1: 0.52 - ETA: 2:15 - loss: 0.4752 - acc: 0.7406 - f1: 0.52 - ETA: 2:15 - loss: 0.4753 - acc: 0.7407 - f1: 0.52 - ETA: 2:14 - loss: 0.4752 - acc: 0.7409 - f1: 0.52 - ETA: 2:14 - loss: 0.4752 - acc: 0.7409 - f1: 0.52 - ETA: 2:13 - loss: 0.4751 - acc: 0.7411 - f1: 0.52 - ETA: 2:13 - loss: 0.4751 - acc: 0.7412 - f1: 0.52 - ETA: 2:12 - loss: 0.4751 - acc: 0.7411 - f1: 0.52 - ETA: 2:11 - loss: 0.4751 - acc: 0.7410 - f1: 0.52 - ETA: 2:11 - loss: 0.4751 - acc: 0.7411 - f1: 0.52 - ETA: 2:10 - loss: 0.4752 - acc: 0.7410 - f1: 0.52 - ETA: 2:10 - loss: 0.4752 - acc: 0.7410 - f1: 0.52 - ETA: 2:09 - loss: 0.4752 - acc: 0.7410 - f1: 0.52 - ETA: 2:08 - loss: 0.4751 - acc: 0.7411 - f1: 0.52 - ETA: 2:08 - loss: 0.4752 - acc: 0.7409 - f1: 0.52 - ETA: 2:07 - loss: 0.4752 - acc: 0.7411 - f1: 0.5294"
     ]
    },
    {
     "name": "stdout",
     "output_type": "stream",
     "text": [
      "1089/1165 [===========================>..] - ETA: 2:07 - loss: 0.4752 - acc: 0.7411 - f1: 0.52 - ETA: 2:06 - loss: 0.4752 - acc: 0.7411 - f1: 0.52 - ETA: 2:06 - loss: 0.4753 - acc: 0.7412 - f1: 0.52 - ETA: 2:05 - loss: 0.4752 - acc: 0.7412 - f1: 0.52 - ETA: 2:04 - loss: 0.4751 - acc: 0.7413 - f1: 0.52 - ETA: 2:04 - loss: 0.4752 - acc: 0.7412 - f1: 0.52 - ETA: 2:03 - loss: 0.4751 - acc: 0.7412 - f1: 0.52 - ETA: 2:03 - loss: 0.4751 - acc: 0.7411 - f1: 0.52 - ETA: 2:02 - loss: 0.4751 - acc: 0.7412 - f1: 0.52 - ETA: 2:02 - loss: 0.4751 - acc: 0.7412 - f1: 0.52 - ETA: 2:01 - loss: 0.4750 - acc: 0.7411 - f1: 0.52 - ETA: 2:00 - loss: 0.4751 - acc: 0.7412 - f1: 0.52 - ETA: 2:00 - loss: 0.4751 - acc: 0.7409 - f1: 0.52 - ETA: 1:59 - loss: 0.4751 - acc: 0.7409 - f1: 0.52 - ETA: 1:59 - loss: 0.4751 - acc: 0.7410 - f1: 0.52 - ETA: 1:58 - loss: 0.4752 - acc: 0.7409 - f1: 0.52 - ETA: 1:57 - loss: 0.4752 - acc: 0.7409 - f1: 0.52 - ETA: 1:57 - loss: 0.4751 - acc: 0.7409 - f1: 0.52 - ETA: 1:56 - loss: 0.4750 - acc: 0.7409 - f1: 0.52 - ETA: 1:56 - loss: 0.4751 - acc: 0.7408 - f1: 0.52 - ETA: 1:55 - loss: 0.4752 - acc: 0.7409 - f1: 0.52 - ETA: 1:55 - loss: 0.4751 - acc: 0.7410 - f1: 0.52 - ETA: 1:54 - loss: 0.4751 - acc: 0.7409 - f1: 0.52 - ETA: 1:53 - loss: 0.4751 - acc: 0.7411 - f1: 0.52 - ETA: 1:53 - loss: 0.4750 - acc: 0.7411 - f1: 0.52 - ETA: 1:52 - loss: 0.4749 - acc: 0.7410 - f1: 0.52 - ETA: 1:52 - loss: 0.4750 - acc: 0.7409 - f1: 0.52 - ETA: 1:51 - loss: 0.4751 - acc: 0.7410 - f1: 0.52 - ETA: 1:51 - loss: 0.4751 - acc: 0.7410 - f1: 0.52 - ETA: 1:50 - loss: 0.4752 - acc: 0.7411 - f1: 0.52 - ETA: 1:49 - loss: 0.4751 - acc: 0.7410 - f1: 0.52 - ETA: 1:49 - loss: 0.4750 - acc: 0.7410 - f1: 0.52 - ETA: 1:48 - loss: 0.4750 - acc: 0.7410 - f1: 0.52 - ETA: 1:48 - loss: 0.4750 - acc: 0.7411 - f1: 0.52 - ETA: 1:47 - loss: 0.4749 - acc: 0.7411 - f1: 0.52 - ETA: 1:47 - loss: 0.4750 - acc: 0.7413 - f1: 0.52 - ETA: 1:46 - loss: 0.4751 - acc: 0.7414 - f1: 0.52 - ETA: 1:45 - loss: 0.4751 - acc: 0.7414 - f1: 0.52 - ETA: 1:45 - loss: 0.4752 - acc: 0.7417 - f1: 0.52 - ETA: 1:44 - loss: 0.4752 - acc: 0.7417 - f1: 0.52 - ETA: 1:44 - loss: 0.4752 - acc: 0.7419 - f1: 0.52 - ETA: 1:43 - loss: 0.4753 - acc: 0.7420 - f1: 0.52 - ETA: 1:43 - loss: 0.4753 - acc: 0.7420 - f1: 0.52 - ETA: 1:42 - loss: 0.4751 - acc: 0.7422 - f1: 0.52 - ETA: 1:42 - loss: 0.4751 - acc: 0.7422 - f1: 0.52 - ETA: 1:41 - loss: 0.4751 - acc: 0.7422 - f1: 0.52 - ETA: 1:40 - loss: 0.4750 - acc: 0.7423 - f1: 0.52 - ETA: 1:40 - loss: 0.4750 - acc: 0.7426 - f1: 0.52 - ETA: 1:39 - loss: 0.4749 - acc: 0.7426 - f1: 0.52 - ETA: 1:39 - loss: 0.4749 - acc: 0.7428 - f1: 0.52 - ETA: 1:38 - loss: 0.4749 - acc: 0.7429 - f1: 0.52 - ETA: 1:38 - loss: 0.4750 - acc: 0.7429 - f1: 0.52 - ETA: 1:37 - loss: 0.4748 - acc: 0.7430 - f1: 0.52 - ETA: 1:36 - loss: 0.4748 - acc: 0.7430 - f1: 0.52 - ETA: 1:36 - loss: 0.4747 - acc: 0.7431 - f1: 0.52 - ETA: 1:35 - loss: 0.4748 - acc: 0.7432 - f1: 0.52 - ETA: 1:35 - loss: 0.4748 - acc: 0.7432 - f1: 0.52 - ETA: 1:34 - loss: 0.4747 - acc: 0.7433 - f1: 0.52 - ETA: 1:34 - loss: 0.4748 - acc: 0.7433 - f1: 0.52 - ETA: 1:33 - loss: 0.4748 - acc: 0.7434 - f1: 0.52 - ETA: 1:33 - loss: 0.4747 - acc: 0.7433 - f1: 0.52 - ETA: 1:32 - loss: 0.4748 - acc: 0.7434 - f1: 0.52 - ETA: 1:31 - loss: 0.4748 - acc: 0.7434 - f1: 0.52 - ETA: 1:31 - loss: 0.4748 - acc: 0.7435 - f1: 0.52 - ETA: 1:30 - loss: 0.4748 - acc: 0.7434 - f1: 0.52 - ETA: 1:30 - loss: 0.4747 - acc: 0.7435 - f1: 0.52 - ETA: 1:29 - loss: 0.4746 - acc: 0.7435 - f1: 0.52 - ETA: 1:29 - loss: 0.4746 - acc: 0.7436 - f1: 0.52 - ETA: 1:28 - loss: 0.4747 - acc: 0.7435 - f1: 0.52 - ETA: 1:27 - loss: 0.4747 - acc: 0.7435 - f1: 0.52 - ETA: 1:27 - loss: 0.4746 - acc: 0.7435 - f1: 0.52 - ETA: 1:26 - loss: 0.4747 - acc: 0.7436 - f1: 0.52 - ETA: 1:26 - loss: 0.4747 - acc: 0.7437 - f1: 0.52 - ETA: 1:25 - loss: 0.4747 - acc: 0.7437 - f1: 0.52 - ETA: 1:25 - loss: 0.4748 - acc: 0.7439 - f1: 0.52 - ETA: 1:24 - loss: 0.4748 - acc: 0.7440 - f1: 0.52 - ETA: 1:24 - loss: 0.4748 - acc: 0.7440 - f1: 0.52 - ETA: 1:23 - loss: 0.4747 - acc: 0.7440 - f1: 0.52 - ETA: 1:22 - loss: 0.4747 - acc: 0.7441 - f1: 0.52 - ETA: 1:22 - loss: 0.4746 - acc: 0.7441 - f1: 0.52 - ETA: 1:21 - loss: 0.4746 - acc: 0.7442 - f1: 0.52 - ETA: 1:21 - loss: 0.4746 - acc: 0.7442 - f1: 0.52 - ETA: 1:20 - loss: 0.4746 - acc: 0.7441 - f1: 0.52 - ETA: 1:20 - loss: 0.4747 - acc: 0.7440 - f1: 0.52 - ETA: 1:19 - loss: 0.4747 - acc: 0.7441 - f1: 0.52 - ETA: 1:19 - loss: 0.4748 - acc: 0.7441 - f1: 0.52 - ETA: 1:18 - loss: 0.4748 - acc: 0.7440 - f1: 0.52 - ETA: 1:17 - loss: 0.4748 - acc: 0.7440 - f1: 0.52 - ETA: 1:17 - loss: 0.4748 - acc: 0.7441 - f1: 0.52 - ETA: 1:16 - loss: 0.4748 - acc: 0.7442 - f1: 0.52 - ETA: 1:16 - loss: 0.4748 - acc: 0.7443 - f1: 0.52 - ETA: 1:15 - loss: 0.4747 - acc: 0.7445 - f1: 0.52 - ETA: 1:15 - loss: 0.4748 - acc: 0.7445 - f1: 0.52 - ETA: 1:14 - loss: 0.4748 - acc: 0.7446 - f1: 0.52 - ETA: 1:14 - loss: 0.4749 - acc: 0.7446 - f1: 0.52 - ETA: 1:13 - loss: 0.4749 - acc: 0.7444 - f1: 0.52 - ETA: 1:13 - loss: 0.4749 - acc: 0.7444 - f1: 0.52 - ETA: 1:12 - loss: 0.4750 - acc: 0.7444 - f1: 0.52 - ETA: 1:11 - loss: 0.4750 - acc: 0.7445 - f1: 0.52 - ETA: 1:11 - loss: 0.4749 - acc: 0.7445 - f1: 0.52 - ETA: 1:10 - loss: 0.4749 - acc: 0.7446 - f1: 0.52 - ETA: 1:10 - loss: 0.4749 - acc: 0.7446 - f1: 0.52 - ETA: 1:09 - loss: 0.4749 - acc: 0.7446 - f1: 0.52 - ETA: 1:09 - loss: 0.4749 - acc: 0.7446 - f1: 0.52 - ETA: 1:08 - loss: 0.4750 - acc: 0.7447 - f1: 0.52 - ETA: 1:08 - loss: 0.4751 - acc: 0.7447 - f1: 0.52 - ETA: 1:07 - loss: 0.4751 - acc: 0.7447 - f1: 0.52 - ETA: 1:06 - loss: 0.4751 - acc: 0.7448 - f1: 0.52 - ETA: 1:06 - loss: 0.4750 - acc: 0.7448 - f1: 0.52 - ETA: 1:05 - loss: 0.4750 - acc: 0.7449 - f1: 0.52 - ETA: 1:05 - loss: 0.4750 - acc: 0.7448 - f1: 0.52 - ETA: 1:04 - loss: 0.4750 - acc: 0.7448 - f1: 0.52 - ETA: 1:04 - loss: 0.4749 - acc: 0.7449 - f1: 0.52 - ETA: 1:03 - loss: 0.4750 - acc: 0.7449 - f1: 0.52 - ETA: 1:03 - loss: 0.4750 - acc: 0.7449 - f1: 0.52 - ETA: 1:02 - loss: 0.4750 - acc: 0.7449 - f1: 0.52 - ETA: 1:02 - loss: 0.4750 - acc: 0.7448 - f1: 0.52 - ETA: 1:01 - loss: 0.4750 - acc: 0.7447 - f1: 0.52 - ETA: 1:00 - loss: 0.4752 - acc: 0.7448 - f1: 0.52 - ETA: 1:00 - loss: 0.4753 - acc: 0.7448 - f1: 0.52 - ETA: 59s - loss: 0.4752 - acc: 0.7447 - f1: 0.5291 - ETA: 59s - loss: 0.4753 - acc: 0.7446 - f1: 0.529 - ETA: 58s - loss: 0.4752 - acc: 0.7447 - f1: 0.529 - ETA: 58s - loss: 0.4753 - acc: 0.7447 - f1: 0.529 - ETA: 57s - loss: 0.4754 - acc: 0.7449 - f1: 0.528 - ETA: 57s - loss: 0.4754 - acc: 0.7448 - f1: 0.528 - ETA: 56s - loss: 0.4753 - acc: 0.7449 - f1: 0.529 - ETA: 56s - loss: 0.4753 - acc: 0.7449 - f1: 0.529 - ETA: 55s - loss: 0.4752 - acc: 0.7450 - f1: 0.529 - ETA: 54s - loss: 0.4752 - acc: 0.7450 - f1: 0.529 - ETA: 54s - loss: 0.4753 - acc: 0.7450 - f1: 0.529 - ETA: 53s - loss: 0.4752 - acc: 0.7449 - f1: 0.529 - ETA: 53s - loss: 0.4753 - acc: 0.7449 - f1: 0.529 - ETA: 52s - loss: 0.4753 - acc: 0.7450 - f1: 0.529 - ETA: 52s - loss: 0.4753 - acc: 0.7450 - f1: 0.529 - ETA: 51s - loss: 0.4753 - acc: 0.7451 - f1: 0.529 - ETA: 51s - loss: 0.4752 - acc: 0.7451 - f1: 0.529 - ETA: 50s - loss: 0.4752 - acc: 0.7451 - f1: 0.529 - ETA: 50s - loss: 0.4751 - acc: 0.7452 - f1: 0.529 - ETA: 49s - loss: 0.4751 - acc: 0.7452 - f1: 0.529 - ETA: 49s - loss: 0.4751 - acc: 0.7451 - f1: 0.529 - ETA: 48s - loss: 0.4750 - acc: 0.7451 - f1: 0.529 - ETA: 47s - loss: 0.4750 - acc: 0.7453 - f1: 0.529 - ETA: 47s - loss: 0.4749 - acc: 0.7453 - f1: 0.529 - ETA: 46s - loss: 0.4749 - acc: 0.7452 - f1: 0.529 - ETA: 46s - loss: 0.4749 - acc: 0.7452 - f1: 0.529 - ETA: 45s - loss: 0.4749 - acc: 0.7453 - f1: 0.529 - ETA: 45s - loss: 0.4750 - acc: 0.7453 - f1: 0.529 - ETA: 44s - loss: 0.4749 - acc: 0.7451 - f1: 0.529 - ETA: 44s - loss: 0.4749 - acc: 0.7451 - f1: 0.529 - ETA: 43s - loss: 0.4749 - acc: 0.7451 - f1: 0.529 - ETA: 43s - loss: 0.4748 - acc: 0.7451 - f1: 0.529 - ETA: 42s - loss: 0.4749 - acc: 0.7452 - f1: 0.529 - ETA: 42s - loss: 0.4749 - acc: 0.7452 - f1: 0.529 - ETA: 41s - loss: 0.4749 - acc: 0.7453 - f1: 0.529 - ETA: 40s - loss: 0.4749 - acc: 0.7454 - f1: 0.529 - ETA: 40s - loss: 0.4749 - acc: 0.7455 - f1: 0.5294"
     ]
    },
    {
     "name": "stdout",
     "output_type": "stream",
     "text": [
      "1166/1165 [==============================] - ETA: 39s - loss: 0.4749 - acc: 0.7456 - f1: 0.529 - ETA: 39s - loss: 0.4749 - acc: 0.7455 - f1: 0.529 - ETA: 38s - loss: 0.4748 - acc: 0.7455 - f1: 0.529 - ETA: 38s - loss: 0.4748 - acc: 0.7456 - f1: 0.529 - ETA: 37s - loss: 0.4749 - acc: 0.7457 - f1: 0.529 - ETA: 37s - loss: 0.4749 - acc: 0.7458 - f1: 0.529 - ETA: 36s - loss: 0.4750 - acc: 0.7459 - f1: 0.529 - ETA: 36s - loss: 0.4750 - acc: 0.7459 - f1: 0.529 - ETA: 35s - loss: 0.4750 - acc: 0.7459 - f1: 0.529 - ETA: 35s - loss: 0.4750 - acc: 0.7460 - f1: 0.529 - ETA: 34s - loss: 0.4749 - acc: 0.7460 - f1: 0.529 - ETA: 34s - loss: 0.4749 - acc: 0.7461 - f1: 0.529 - ETA: 33s - loss: 0.4749 - acc: 0.7461 - f1: 0.529 - ETA: 32s - loss: 0.4749 - acc: 0.7462 - f1: 0.529 - ETA: 32s - loss: 0.4749 - acc: 0.7462 - f1: 0.529 - ETA: 31s - loss: 0.4748 - acc: 0.7462 - f1: 0.529 - ETA: 31s - loss: 0.4748 - acc: 0.7461 - f1: 0.529 - ETA: 30s - loss: 0.4748 - acc: 0.7461 - f1: 0.529 - ETA: 30s - loss: 0.4748 - acc: 0.7461 - f1: 0.529 - ETA: 29s - loss: 0.4747 - acc: 0.7460 - f1: 0.529 - ETA: 29s - loss: 0.4747 - acc: 0.7460 - f1: 0.529 - ETA: 28s - loss: 0.4748 - acc: 0.7460 - f1: 0.529 - ETA: 28s - loss: 0.4747 - acc: 0.7459 - f1: 0.529 - ETA: 27s - loss: 0.4747 - acc: 0.7460 - f1: 0.529 - ETA: 27s - loss: 0.4747 - acc: 0.7460 - f1: 0.529 - ETA: 26s - loss: 0.4746 - acc: 0.7461 - f1: 0.529 - ETA: 26s - loss: 0.4746 - acc: 0.7462 - f1: 0.529 - ETA: 25s - loss: 0.4746 - acc: 0.7462 - f1: 0.529 - ETA: 24s - loss: 0.4746 - acc: 0.7462 - f1: 0.529 - ETA: 24s - loss: 0.4746 - acc: 0.7463 - f1: 0.529 - ETA: 23s - loss: 0.4746 - acc: 0.7465 - f1: 0.529 - ETA: 23s - loss: 0.4746 - acc: 0.7464 - f1: 0.529 - ETA: 22s - loss: 0.4746 - acc: 0.7465 - f1: 0.529 - ETA: 22s - loss: 0.4747 - acc: 0.7465 - f1: 0.529 - ETA: 21s - loss: 0.4747 - acc: 0.7466 - f1: 0.529 - ETA: 21s - loss: 0.4747 - acc: 0.7466 - f1: 0.529 - ETA: 20s - loss: 0.4747 - acc: 0.7467 - f1: 0.529 - ETA: 20s - loss: 0.4746 - acc: 0.7467 - f1: 0.529 - ETA: 19s - loss: 0.4747 - acc: 0.7468 - f1: 0.529 - ETA: 19s - loss: 0.4746 - acc: 0.7468 - f1: 0.529 - ETA: 18s - loss: 0.4746 - acc: 0.7468 - f1: 0.529 - ETA: 18s - loss: 0.4745 - acc: 0.7470 - f1: 0.529 - ETA: 17s - loss: 0.4745 - acc: 0.7468 - f1: 0.529 - ETA: 17s - loss: 0.4744 - acc: 0.7469 - f1: 0.529 - ETA: 16s - loss: 0.4745 - acc: 0.7470 - f1: 0.529 - ETA: 15s - loss: 0.4745 - acc: 0.7470 - f1: 0.529 - ETA: 15s - loss: 0.4744 - acc: 0.7470 - f1: 0.529 - ETA: 14s - loss: 0.4743 - acc: 0.7470 - f1: 0.529 - ETA: 14s - loss: 0.4744 - acc: 0.7469 - f1: 0.529 - ETA: 13s - loss: 0.4745 - acc: 0.7469 - f1: 0.529 - ETA: 13s - loss: 0.4745 - acc: 0.7468 - f1: 0.529 - ETA: 12s - loss: 0.4745 - acc: 0.7469 - f1: 0.529 - ETA: 12s - loss: 0.4745 - acc: 0.7469 - f1: 0.529 - ETA: 11s - loss: 0.4745 - acc: 0.7467 - f1: 0.529 - ETA: 11s - loss: 0.4745 - acc: 0.7468 - f1: 0.529 - ETA: 10s - loss: 0.4745 - acc: 0.7467 - f1: 0.529 - ETA: 10s - loss: 0.4745 - acc: 0.7465 - f1: 0.529 - ETA: 9s - loss: 0.4745 - acc: 0.7466 - f1: 0.529 - ETA: 9s - loss: 0.4746 - acc: 0.7466 - f1: 0.52 - ETA: 8s - loss: 0.4746 - acc: 0.7466 - f1: 0.52 - ETA: 8s - loss: 0.4745 - acc: 0.7465 - f1: 0.52 - ETA: 7s - loss: 0.4746 - acc: 0.7466 - f1: 0.52 - ETA: 7s - loss: 0.4745 - acc: 0.7466 - f1: 0.52 - ETA: 6s - loss: 0.4744 - acc: 0.7466 - f1: 0.52 - ETA: 6s - loss: 0.4744 - acc: 0.7466 - f1: 0.52 - ETA: 5s - loss: 0.4744 - acc: 0.7468 - f1: 0.52 - ETA: 4s - loss: 0.4743 - acc: 0.7468 - f1: 0.52 - ETA: 4s - loss: 0.4743 - acc: 0.7469 - f1: 0.52 - ETA: 3s - loss: 0.4743 - acc: 0.7469 - f1: 0.52 - ETA: 3s - loss: 0.4743 - acc: 0.7470 - f1: 0.52 - ETA: 2s - loss: 0.4744 - acc: 0.7471 - f1: 0.52 - ETA: 2s - loss: 0.4744 - acc: 0.7471 - f1: 0.52 - ETA: 1s - loss: 0.4745 - acc: 0.7471 - f1: 0.52 - ETA: 1s - loss: 0.4744 - acc: 0.7471 - f1: 0.52 - ETA: 0s - loss: 0.4743 - acc: 0.7470 - f1: 0.52 - ETA: 0s - loss: 0.4742 - acc: 0.7471 - f1: 0.52 - 691s 592ms/step - loss: 0.4742 - acc: 0.7472 - f1: 0.5298 - val_loss: 0.7068 - val_acc: 0.5779 - val_f1: 0.2980\n",
      "\n",
      "Epoch 00001: val_f1 did not improve from 0.30420\n",
      "Epoch 2/200\n",
      "  45/1165 [>.............................] - ETA: 19:58 - loss: 0.3556 - acc: 0.8438 - f1: 0.658 - ETA: 14:11 - loss: 0.4014 - acc: 0.7031 - f1: 0.607 - ETA: 12:10 - loss: 0.3885 - acc: 0.6667 - f1: 0.618 - ETA: 11:09 - loss: 0.4024 - acc: 0.6875 - f1: 0.599 - ETA: 10:34 - loss: 0.4068 - acc: 0.6875 - f1: 0.593 - ETA: 10:39 - loss: 0.4071 - acc: 0.6875 - f1: 0.593 - ETA: 10:17 - loss: 0.4272 - acc: 0.6920 - f1: 0.574 - ETA: 10:03 - loss: 0.4196 - acc: 0.7031 - f1: 0.581 - ETA: 10:19 - loss: 0.4227 - acc: 0.7118 - f1: 0.578 - ETA: 10:30 - loss: 0.4200 - acc: 0.7156 - f1: 0.582 - ETA: 10:16 - loss: 0.4194 - acc: 0.7159 - f1: 0.583 - ETA: 10:04 - loss: 0.4220 - acc: 0.7135 - f1: 0.580 - ETA: 9:59 - loss: 0.4265 - acc: 0.7091 - f1: 0.576 - ETA: 9:51 - loss: 0.4229 - acc: 0.7188 - f1: 0.58 - ETA: 9:44 - loss: 0.4273 - acc: 0.7271 - f1: 0.57 - ETA: 9:36 - loss: 0.4310 - acc: 0.7227 - f1: 0.57 - ETA: 9:30 - loss: 0.4339 - acc: 0.7316 - f1: 0.56 - ETA: 9:24 - loss: 0.4404 - acc: 0.7292 - f1: 0.56 - ETA: 9:19 - loss: 0.4419 - acc: 0.7352 - f1: 0.55 - ETA: 9:15 - loss: 0.4463 - acc: 0.7344 - f1: 0.55 - ETA: 9:16 - loss: 0.4513 - acc: 0.7351 - f1: 0.55 - ETA: 9:12 - loss: 0.4511 - acc: 0.7386 - f1: 0.55 - ETA: 9:08 - loss: 0.4495 - acc: 0.7391 - f1: 0.55 - ETA: 9:06 - loss: 0.4594 - acc: 0.7383 - f1: 0.54 - ETA: 9:02 - loss: 0.4618 - acc: 0.7400 - f1: 0.54 - ETA: 9:00 - loss: 0.4646 - acc: 0.7380 - f1: 0.53 - ETA: 8:57 - loss: 0.4680 - acc: 0.7407 - f1: 0.53 - ETA: 8:54 - loss: 0.4668 - acc: 0.7411 - f1: 0.53 - ETA: 8:51 - loss: 0.4648 - acc: 0.7425 - f1: 0.53 - ETA: 8:50 - loss: 0.4634 - acc: 0.7417 - f1: 0.53 - ETA: 8:47 - loss: 0.4652 - acc: 0.7440 - f1: 0.53 - ETA: 8:45 - loss: 0.4624 - acc: 0.7471 - f1: 0.53 - ETA: 8:42 - loss: 0.4610 - acc: 0.7462 - f1: 0.54 - ETA: 8:42 - loss: 0.4634 - acc: 0.7426 - f1: 0.53 - ETA: 8:40 - loss: 0.4625 - acc: 0.7446 - f1: 0.53 - ETA: 8:38 - loss: 0.4629 - acc: 0.7465 - f1: 0.53 - ETA: 8:37 - loss: 0.4605 - acc: 0.7466 - f1: 0.54 - ETA: 8:35 - loss: 0.4591 - acc: 0.7442 - f1: 0.54 - ETA: 8:33 - loss: 0.4571 - acc: 0.7452 - f1: 0.54 - ETA: 8:31 - loss: 0.4577 - acc: 0.7469 - f1: 0.54 - ETA: 8:29 - loss: 0.4588 - acc: 0.7492 - f1: 0.54 - ETA: 8:28 - loss: 0.4571 - acc: 0.7515 - f1: 0.54 - ETA: 8:27 - loss: 0.4599 - acc: 0.7551 - f1: 0.54 - ETA: 8:26 - loss: 0.4591 - acc: 0.7557 - f1: 0.54 - ETA: 8:24 - loss: 0.4584 - acc: 0.7597 - f1: 0.5423"
     ]
    },
    {
     "ename": "KeyboardInterrupt",
     "evalue": "",
     "output_type": "error",
     "traceback": [
      "\u001b[1;31m---------------------------------------------------------------------------\u001b[0m",
      "\u001b[1;31mKeyboardInterrupt\u001b[0m                         Traceback (most recent call last)",
      "\u001b[1;32m<ipython-input-53-474c91b53177>\u001b[0m in \u001b[0;36m<module>\u001b[1;34m()\u001b[0m\n\u001b[0;32m      9\u001b[0m         \u001b[0mepochs\u001b[0m\u001b[1;33m=\u001b[0m\u001b[1;36m200\u001b[0m\u001b[1;33m,\u001b[0m\u001b[1;33m\u001b[0m\u001b[0m\n\u001b[0;32m     10\u001b[0m         \u001b[0mverbose\u001b[0m\u001b[1;33m=\u001b[0m\u001b[1;36m1\u001b[0m\u001b[1;33m,\u001b[0m\u001b[1;33m\u001b[0m\u001b[0m\n\u001b[1;32m---> 11\u001b[1;33m         callbacks=callbacks_list)\n\u001b[0m",
      "\u001b[1;32mc:\\users\\magic\\appdata\\local\\programs\\python\\python36\\lib\\site-packages\\keras\\legacy\\interfaces.py\u001b[0m in \u001b[0;36mwrapper\u001b[1;34m(*args, **kwargs)\u001b[0m\n\u001b[0;32m     89\u001b[0m                 warnings.warn('Update your `' + object_name +\n\u001b[0;32m     90\u001b[0m                               '` call to the Keras 2 API: ' + signature, stacklevel=2)\n\u001b[1;32m---> 91\u001b[1;33m             \u001b[1;32mreturn\u001b[0m \u001b[0mfunc\u001b[0m\u001b[1;33m(\u001b[0m\u001b[1;33m*\u001b[0m\u001b[0margs\u001b[0m\u001b[1;33m,\u001b[0m \u001b[1;33m**\u001b[0m\u001b[0mkwargs\u001b[0m\u001b[1;33m)\u001b[0m\u001b[1;33m\u001b[0m\u001b[0m\n\u001b[0m\u001b[0;32m     92\u001b[0m         \u001b[0mwrapper\u001b[0m\u001b[1;33m.\u001b[0m\u001b[0m_original_function\u001b[0m \u001b[1;33m=\u001b[0m \u001b[0mfunc\u001b[0m\u001b[1;33m\u001b[0m\u001b[0m\n\u001b[0;32m     93\u001b[0m         \u001b[1;32mreturn\u001b[0m \u001b[0mwrapper\u001b[0m\u001b[1;33m\u001b[0m\u001b[0m\n",
      "\u001b[1;32mc:\\users\\magic\\appdata\\local\\programs\\python\\python36\\lib\\site-packages\\keras\\engine\\training.py\u001b[0m in \u001b[0;36mfit_generator\u001b[1;34m(self, generator, steps_per_epoch, epochs, verbose, callbacks, validation_data, validation_steps, class_weight, max_queue_size, workers, use_multiprocessing, shuffle, initial_epoch)\u001b[0m\n\u001b[0;32m   1424\u001b[0m             \u001b[0muse_multiprocessing\u001b[0m\u001b[1;33m=\u001b[0m\u001b[0muse_multiprocessing\u001b[0m\u001b[1;33m,\u001b[0m\u001b[1;33m\u001b[0m\u001b[0m\n\u001b[0;32m   1425\u001b[0m             \u001b[0mshuffle\u001b[0m\u001b[1;33m=\u001b[0m\u001b[0mshuffle\u001b[0m\u001b[1;33m,\u001b[0m\u001b[1;33m\u001b[0m\u001b[0m\n\u001b[1;32m-> 1426\u001b[1;33m             initial_epoch=initial_epoch)\n\u001b[0m\u001b[0;32m   1427\u001b[0m \u001b[1;33m\u001b[0m\u001b[0m\n\u001b[0;32m   1428\u001b[0m     \u001b[1;33m@\u001b[0m\u001b[0minterfaces\u001b[0m\u001b[1;33m.\u001b[0m\u001b[0mlegacy_generator_methods_support\u001b[0m\u001b[1;33m\u001b[0m\u001b[0m\n",
      "\u001b[1;32mc:\\users\\magic\\appdata\\local\\programs\\python\\python36\\lib\\site-packages\\keras\\engine\\training_generator.py\u001b[0m in \u001b[0;36mfit_generator\u001b[1;34m(model, generator, steps_per_epoch, epochs, verbose, callbacks, validation_data, validation_steps, class_weight, max_queue_size, workers, use_multiprocessing, shuffle, initial_epoch)\u001b[0m\n\u001b[0;32m    189\u001b[0m                 outs = model.train_on_batch(x, y,\n\u001b[0;32m    190\u001b[0m                                             \u001b[0msample_weight\u001b[0m\u001b[1;33m=\u001b[0m\u001b[0msample_weight\u001b[0m\u001b[1;33m,\u001b[0m\u001b[1;33m\u001b[0m\u001b[0m\n\u001b[1;32m--> 191\u001b[1;33m                                             class_weight=class_weight)\n\u001b[0m\u001b[0;32m    192\u001b[0m \u001b[1;33m\u001b[0m\u001b[0m\n\u001b[0;32m    193\u001b[0m                 \u001b[1;32mif\u001b[0m \u001b[1;32mnot\u001b[0m \u001b[0misinstance\u001b[0m\u001b[1;33m(\u001b[0m\u001b[0mouts\u001b[0m\u001b[1;33m,\u001b[0m \u001b[0mlist\u001b[0m\u001b[1;33m)\u001b[0m\u001b[1;33m:\u001b[0m\u001b[1;33m\u001b[0m\u001b[0m\n",
      "\u001b[1;32mc:\\users\\magic\\appdata\\local\\programs\\python\\python36\\lib\\site-packages\\keras\\engine\\training.py\u001b[0m in \u001b[0;36mtrain_on_batch\u001b[1;34m(self, x, y, sample_weight, class_weight)\u001b[0m\n\u001b[0;32m   1218\u001b[0m             \u001b[0mins\u001b[0m \u001b[1;33m=\u001b[0m \u001b[0mx\u001b[0m \u001b[1;33m+\u001b[0m \u001b[0my\u001b[0m \u001b[1;33m+\u001b[0m \u001b[0msample_weights\u001b[0m\u001b[1;33m\u001b[0m\u001b[0m\n\u001b[0;32m   1219\u001b[0m         \u001b[0mself\u001b[0m\u001b[1;33m.\u001b[0m\u001b[0m_make_train_function\u001b[0m\u001b[1;33m(\u001b[0m\u001b[1;33m)\u001b[0m\u001b[1;33m\u001b[0m\u001b[0m\n\u001b[1;32m-> 1220\u001b[1;33m         \u001b[0moutputs\u001b[0m \u001b[1;33m=\u001b[0m \u001b[0mself\u001b[0m\u001b[1;33m.\u001b[0m\u001b[0mtrain_function\u001b[0m\u001b[1;33m(\u001b[0m\u001b[0mins\u001b[0m\u001b[1;33m)\u001b[0m\u001b[1;33m\u001b[0m\u001b[0m\n\u001b[0m\u001b[0;32m   1221\u001b[0m         \u001b[1;32mif\u001b[0m \u001b[0mlen\u001b[0m\u001b[1;33m(\u001b[0m\u001b[0moutputs\u001b[0m\u001b[1;33m)\u001b[0m \u001b[1;33m==\u001b[0m \u001b[1;36m1\u001b[0m\u001b[1;33m:\u001b[0m\u001b[1;33m\u001b[0m\u001b[0m\n\u001b[0;32m   1222\u001b[0m             \u001b[1;32mreturn\u001b[0m \u001b[0moutputs\u001b[0m\u001b[1;33m[\u001b[0m\u001b[1;36m0\u001b[0m\u001b[1;33m]\u001b[0m\u001b[1;33m\u001b[0m\u001b[0m\n",
      "\u001b[1;32mc:\\users\\magic\\appdata\\local\\programs\\python\\python36\\lib\\site-packages\\keras\\backend\\tensorflow_backend.py\u001b[0m in \u001b[0;36m__call__\u001b[1;34m(self, inputs)\u001b[0m\n\u001b[0;32m   2659\u001b[0m                 \u001b[1;32mreturn\u001b[0m \u001b[0mself\u001b[0m\u001b[1;33m.\u001b[0m\u001b[0m_legacy_call\u001b[0m\u001b[1;33m(\u001b[0m\u001b[0minputs\u001b[0m\u001b[1;33m)\u001b[0m\u001b[1;33m\u001b[0m\u001b[0m\n\u001b[0;32m   2660\u001b[0m \u001b[1;33m\u001b[0m\u001b[0m\n\u001b[1;32m-> 2661\u001b[1;33m             \u001b[1;32mreturn\u001b[0m \u001b[0mself\u001b[0m\u001b[1;33m.\u001b[0m\u001b[0m_call\u001b[0m\u001b[1;33m(\u001b[0m\u001b[0minputs\u001b[0m\u001b[1;33m)\u001b[0m\u001b[1;33m\u001b[0m\u001b[0m\n\u001b[0m\u001b[0;32m   2662\u001b[0m         \u001b[1;32melse\u001b[0m\u001b[1;33m:\u001b[0m\u001b[1;33m\u001b[0m\u001b[0m\n\u001b[0;32m   2663\u001b[0m             \u001b[1;32mif\u001b[0m \u001b[0mpy_any\u001b[0m\u001b[1;33m(\u001b[0m\u001b[0mis_tensor\u001b[0m\u001b[1;33m(\u001b[0m\u001b[0mx\u001b[0m\u001b[1;33m)\u001b[0m \u001b[1;32mfor\u001b[0m \u001b[0mx\u001b[0m \u001b[1;32min\u001b[0m \u001b[0minputs\u001b[0m\u001b[1;33m)\u001b[0m\u001b[1;33m:\u001b[0m\u001b[1;33m\u001b[0m\u001b[0m\n",
      "\u001b[1;32mc:\\users\\magic\\appdata\\local\\programs\\python\\python36\\lib\\site-packages\\keras\\backend\\tensorflow_backend.py\u001b[0m in \u001b[0;36m_call\u001b[1;34m(self, inputs)\u001b[0m\n\u001b[0;32m   2629\u001b[0m                                 \u001b[0msymbol_vals\u001b[0m\u001b[1;33m,\u001b[0m\u001b[1;33m\u001b[0m\u001b[0m\n\u001b[0;32m   2630\u001b[0m                                 session)\n\u001b[1;32m-> 2631\u001b[1;33m         \u001b[0mfetched\u001b[0m \u001b[1;33m=\u001b[0m \u001b[0mself\u001b[0m\u001b[1;33m.\u001b[0m\u001b[0m_callable_fn\u001b[0m\u001b[1;33m(\u001b[0m\u001b[1;33m*\u001b[0m\u001b[0marray_vals\u001b[0m\u001b[1;33m)\u001b[0m\u001b[1;33m\u001b[0m\u001b[0m\n\u001b[0m\u001b[0;32m   2632\u001b[0m         \u001b[1;32mreturn\u001b[0m \u001b[0mfetched\u001b[0m\u001b[1;33m[\u001b[0m\u001b[1;33m:\u001b[0m\u001b[0mlen\u001b[0m\u001b[1;33m(\u001b[0m\u001b[0mself\u001b[0m\u001b[1;33m.\u001b[0m\u001b[0moutputs\u001b[0m\u001b[1;33m)\u001b[0m\u001b[1;33m]\u001b[0m\u001b[1;33m\u001b[0m\u001b[0m\n\u001b[0;32m   2633\u001b[0m \u001b[1;33m\u001b[0m\u001b[0m\n",
      "\u001b[1;32mc:\\users\\magic\\appdata\\local\\programs\\python\\python36\\lib\\site-packages\\tensorflow\\python\\client\\session.py\u001b[0m in \u001b[0;36m__call__\u001b[1;34m(self, *args)\u001b[0m\n\u001b[0;32m   1449\u001b[0m         \u001b[1;32mif\u001b[0m \u001b[0mself\u001b[0m\u001b[1;33m.\u001b[0m\u001b[0m_session\u001b[0m\u001b[1;33m.\u001b[0m\u001b[0m_created_with_new_api\u001b[0m\u001b[1;33m:\u001b[0m\u001b[1;33m\u001b[0m\u001b[0m\n\u001b[0;32m   1450\u001b[0m           return tf_session.TF_SessionRunCallable(\n\u001b[1;32m-> 1451\u001b[1;33m               self._session._session, self._handle, args, status, None)\n\u001b[0m\u001b[0;32m   1452\u001b[0m         \u001b[1;32melse\u001b[0m\u001b[1;33m:\u001b[0m\u001b[1;33m\u001b[0m\u001b[0m\n\u001b[0;32m   1453\u001b[0m           return tf_session.TF_DeprecatedSessionRunCallable(\n",
      "\u001b[1;31mKeyboardInterrupt\u001b[0m: "
     ]
    }
   ],
   "source": [
    "# model.compile(loss=f1_loss,\n",
    "#             optimizer=Adam(lr=1e-4),\n",
    "#             metrics=['accuracy', f1])\n",
    "# hist =  model.fit_generator(\n",
    "#         tg,\n",
    "#         steps_per_epoch=np.ceil(float(len(pathsTrain)) / float(batch_size))/2,\n",
    "#         validation_data=vg,\n",
    "#         validation_steps=np.ceil(float(len(pathsVal)) / float(batch_size))/2,\n",
    "#         epochs=200, \n",
    "#         verbose=1,\n",
    "#         callbacks=callbacks_list)"
   ]
  },
  {
   "cell_type": "code",
   "execution_count": 21,
   "metadata": {},
   "outputs": [
    {
     "data": {
      "text/plain": [
       "<matplotlib.legend.Legend at 0x20c0398f518>"
      ]
     },
     "execution_count": 21,
     "metadata": {},
     "output_type": "execute_result"
    },
    {
     "data": {
      "image/png": "[encoded data removed]",
      "text/plain": [
       "<Figure size 1080x360 with 2 Axes>"
      ]
     },
     "metadata": {},
     "output_type": "display_data"
    }
   ],
   "source": [
    "fig, ax = plt.subplots(1, 2, figsize=(15,5))\n",
    "ax[0].set_title('loss')\n",
    "ax[0].plot(hist.epoch, hist.history[\"loss\"], label=\"Train loss\")\n",
    "ax[0].plot(hist.epoch, hist.history[\"val_loss\"], label=\"Validation loss\")\n",
    "ax[1].set_title('acc')\n",
    "ax[1].plot(hist.epoch, hist.history[\"f1\"], label=\"Train F1\")\n",
    "ax[1].plot(hist.epoch, hist.history[\"val_f1\"], label=\"Validation F1\")\n",
    "ax[0].legend()\n",
    "ax[1].legend()"
   ]
  },
  {
   "cell_type": "code",
   "execution_count": 42,
   "metadata": {},
   "outputs": [],
   "source": [
    "from keras.models import load_model\n",
    "bestModel = load_model('../working/InceptionV3.h5', custom_objects={'f1': f1, 'f1_loss': f1_loss, 'focal_loss_fixed':focal_loss()})"
   ]
  },
  {
   "cell_type": "code",
   "execution_count": 44,
   "metadata": {},
   "outputs": [
    {
     "name": "stderr",
     "output_type": "stream",
     "text": [
      "100%|██████████████████████████████████████████████████████████████████████████████████| 98/98 [00:45<00:00,  2.15it/s]\n"
     ]
    },
    {
     "name": "stdout",
     "output_type": "stream",
     "text": [
      "(3108, 28) (3108, 28)\n"
     ]
    }
   ],
   "source": [
    "from tqdm import tqdm\n",
    "lastFullValPred = np.empty((0, 28))\n",
    "lastFullValLabels = np.empty((0, 28))\n",
    "for i in tqdm(range(len(vg))): \n",
    "    im, lbl = vg[i]\n",
    "    scores = bestModel.predict(im)\n",
    "    lastFullValPred = np.append(lastFullValPred, scores, axis=0)\n",
    "    lastFullValLabels = np.append(lastFullValLabels, lbl, axis=0)\n",
    "print(lastFullValPred.shape, lastFullValLabels.shape)"
   ]
  },
  {
   "cell_type": "code",
   "execution_count": 45,
   "metadata": {},
   "outputs": [
    {
     "name": "stderr",
     "output_type": "stream",
     "text": [
      "100%|██████████████████████████████████████████████████████████████████████████████| 1000/1000 [00:43<00:00, 23.04it/s]\n"
     ]
    }
   ],
   "source": [
    "from sklearn.metrics import f1_score as off1\n",
    "rng = np.arange(0, 1, 0.001)\n",
    "f1s = np.zeros((rng.shape[0], 28))\n",
    "for j,t in enumerate(tqdm(rng)):\n",
    "    for i in range(28):\n",
    "        p = np.array(lastFullValPred[:,i]>t, dtype=np.int8)\n",
    "        scoref1 = off1(lastFullValLabels[:,i], p, average='binary')\n",
    "        f1s[j,i] = scoref1"
   ]
  },
  {
   "cell_type": "code",
   "execution_count": 46,
   "metadata": {},
   "outputs": [
    {
     "name": "stdout",
     "output_type": "stream",
     "text": [
      "Individual F1-scores for each class:\n",
      "[0.81699847 0.61607143 0.71175523 0.65724382 0.71022727 0.5735568\n",
      " 0.41269841 0.63740458 0.21052632 0.10526316 0.11111111 0.61971831\n",
      " 0.60869565 0.51851852 0.75897436 0.05405405 0.1686747  0.22222222\n",
      " 0.40268456 0.38255034 0.26086957 0.65282584 0.55       0.70187394\n",
      " 0.51162791 0.66382979 0.18947368 0.        ]\n",
      "Macro F1-score CV = 0.45819464369166657\n",
      "Probability threshold maximizing CV F1-score for each class:\n",
      "[0.446 0.565 0.369 0.446 0.454 0.197 0.285 0.437 0.263 0.134 0.076 0.44\n",
      " 0.572 0.394 0.485 0.096 0.392 0.439 0.524 0.25  0.333 0.242 0.373 0.384\n",
      " 0.456 0.391 0.201 0.   ]\n"
     ]
    },
    {
     "data": {
      "image/png": "[encoded data removed]",
      "text/plain": [
       "<Figure size 432x288 with 1 Axes>"
      ]
     },
     "metadata": {},
     "output_type": "display_data"
    }
   ],
   "source": [
    "print('Individual F1-scores for each class:')\n",
    "print(np.max(f1s, axis=0))\n",
    "print('Macro F1-score CV =', np.mean(np.max(f1s, axis=0)))\n",
    "plt.plot(rng, f1s)\n",
    "T = np.empty(28)\n",
    "for i in range(28):\n",
    "    T[i] = rng[np.where(f1s[:,i] == np.max(f1s[:,i]))[0][0]]\n",
    "print('Probability threshold maximizing CV F1-score for each class:')\n",
    "print(T)"
   ]
  },
  {
   "cell_type": "code",
   "execution_count": 49,
   "metadata": {},
   "outputs": [
    {
     "name": "stderr",
     "output_type": "stream",
     "text": [
      "100%|████████████████████████████████████████████████████████████████████████████████| 976/976 [07:57<00:00,  2.05it/s]\n"
     ]
    }
   ],
   "source": [
    "pathsTest, labelsTest = getTestDataset()\n",
    "\n",
    "testg = ProteinDataGenerator(pathsTest, labelsTest, batch_size, SHAPE, channels)\n",
    "submit = pd.read_csv(DIR + '/sample_submission.csv')\n",
    "P = np.zeros((pathsTest.shape[0], 28))\n",
    "for i in tqdm(range(len(testg))):\n",
    "    images, labels = testg[i]\n",
    "    score = bestModel.predict(images)\n",
    "    P[i*batch_size:i*batch_size+score.shape[0]] = score"
   ]
  },
  {
   "cell_type": "code",
   "execution_count": 50,
   "metadata": {},
   "outputs": [],
   "source": [
    "PP = np.array(P)"
   ]
  },
  {
   "cell_type": "code",
   "execution_count": 51,
   "metadata": {},
   "outputs": [
    {
     "name": "stderr",
     "output_type": "stream",
     "text": [
      "100%|█████████████████████████████████████████████████████████████████████████| 11702/11702 [00:00<00:00, 51920.22it/s]\n"
     ]
    }
   ],
   "source": [
    "prediction = []\n",
    "\n",
    "for row in tqdm(range(submit.shape[0])):\n",
    "    \n",
    "    str_label = ''\n",
    "    \n",
    "    for col in range(PP.shape[1]):\n",
    "        if(PP[row, col] < T[col]):\n",
    "            str_label += ''\n",
    "        else:\n",
    "            str_label += str(col) + ' '\n",
    "    prediction.append(str_label.strip())\n",
    "    \n",
    "submit['Predicted'] = np.array(prediction)\n",
    "submit.to_csv('transfer_1x1conv_aug_focal_loss.csv', index=False)"
   ]
  },
  {
   "cell_type": "code",
   "execution_count": null,
   "metadata": {},
   "outputs": [],
   "source": [
    "# from tqdm import tqdm\n",
    "# pathsTest, labelsTest = getTestDataset()\n",
    "\n",
    "# testg = ProteinDataGenerator(pathsTest, labelsTest, batch_size, SHAPE)\n",
    "# submit = pd.read_csv(DIR + '/sample_submission.csv')\n",
    "# P = np.zeros((pathsTest.shape[0], 28))\n",
    "# for i in tqdm(range(len(testg))):\n",
    "#     images, labels = testg[i]\n",
    "#     score = bestModel.predict(images)\n",
    "#     P[i*batch_size:i*batch_size+score.shape[0]] = score"
   ]
  },
  {
   "cell_type": "code",
   "execution_count": null,
   "metadata": {},
   "outputs": [],
   "source": [
    "# PP = np.array(P)"
   ]
  },
  {
   "cell_type": "code",
   "execution_count": null,
   "metadata": {},
   "outputs": [],
   "source": [
    "# prediction = []\n",
    "\n",
    "# for row in tqdm(range(submit.shape[0])):\n",
    "    \n",
    "#     str_label = ''\n",
    "    \n",
    "#     for col in range(PP.shape[1]):\n",
    "#         if(PP[row, col] < .2):   # to account for losing TP is more costly than decreasing FP\n",
    "#             #print(PP[row])\n",
    "#             str_label += ''\n",
    "#         else:\n",
    "#             str_label += str(col) + ' '\n",
    "#     prediction.append(str_label.strip())\n",
    "    \n",
    "# submit['Predicted'] = np.array(prediction)\n",
    "# submit.to_csv('datagenerator_model_v2.csv', index=False)"
   ]
  },
  {
   "cell_type": "code",
   "execution_count": null,
   "metadata": {},
   "outputs": [],
   "source": []
  },
  {
   "cell_type": "code",
   "execution_count": null,
   "metadata": {},
   "outputs": [],
   "source": []
  }
 ],
 "metadata": {
  "kernelspec": {
   "display_name": "Python 3",
   "language": "python",
   "name": "python3"
  },
  "language_info": {
   "codemirror_mode": {
    "name": "ipython",
    "version": 3
   },
   "file_extension": ".py",
   "mimetype": "text/x-python",
   "name": "python",
   "nbconvert_exporter": "python",
   "pygments_lexer": "ipython3",
   "version": "3.6.6"
  }
 },
 "nbformat": 4,
 "nbformat_minor": 2
}
